{
 "cells": [
  {
   "cell_type": "markdown",
   "id": "4e56161e",
   "metadata": {},
   "source": [
    "# List & Numpy"
   ]
  },
  {
   "cell_type": "markdown",
   "id": "bcc124cc",
   "metadata": {},
   "source": [
    "같은 크기의 두개 리스트를 입력받아 같은 위치의 원소끼리 더해보세요"
   ]
  },
  {
   "cell_type": "code",
   "execution_count": 1,
   "id": "aaba11df",
   "metadata": {},
   "outputs": [
    {
     "name": "stdout",
     "output_type": "stream",
     "text": [
      "A:[1,2,3]\n",
      "B:[2,3,4]\n"
     ]
    }
   ],
   "source": [
    "A = eval(input('A:'))\n",
    "B = eval(input('B:'))"
   ]
  },
  {
   "cell_type": "code",
   "execution_count": 5,
   "id": "90f32fd8",
   "metadata": {},
   "outputs": [
    {
     "name": "stdout",
     "output_type": "stream",
     "text": [
      "[1, 2, 3, 2, 3, 4]\n",
      "[1, 2, 3, 1, 2, 3, 1, 2, 3]\n"
     ]
    }
   ],
   "source": [
    "print(A+B)\n",
    "print(3*A)"
   ]
  },
  {
   "cell_type": "code",
   "execution_count": 3,
   "id": "74053465",
   "metadata": {},
   "outputs": [
    {
     "name": "stdout",
     "output_type": "stream",
     "text": [
      "3\n",
      "5\n",
      "7\n"
     ]
    }
   ],
   "source": [
    "#List\n",
    "for i in range(0,3) :\n",
    "    print(A[i]+B[i])\n",
    "    "
   ]
  },
  {
   "cell_type": "code",
   "execution_count": 10,
   "id": "e2cf823e",
   "metadata": {},
   "outputs": [
    {
     "name": "stdout",
     "output_type": "stream",
     "text": [
      "[1 2 3]\n",
      "[3 5 7]\n",
      "[3 6 9]\n"
     ]
    }
   ],
   "source": [
    "#Numpy\n",
    "import numpy as np\n",
    "AA = np.array(A)\n",
    "BB = np.array(B)\n",
    "\n",
    "print(AA)\n",
    "print(AA+BB)\n",
    "print(3*AA)"
   ]
  },
  {
   "cell_type": "markdown",
   "id": "33e1f22a",
   "metadata": {},
   "source": [
    "Quiz> 1부터 6까지의 거듭제곱으로 구성(2행3열로 구성) [[ 1  4  9] [16 25 36]]  \n",
    "2행3열 행렬의 각 원소에 3을 곱해봅시다."
   ]
  },
  {
   "cell_type": "code",
   "execution_count": 13,
   "id": "e595a267",
   "metadata": {},
   "outputs": [
    {
     "name": "stdout",
     "output_type": "stream",
     "text": [
      "[[3, 12, 27], [48, 75, 108]]\n"
     ]
    }
   ],
   "source": [
    "#List\n",
    "a = [[1,2,3],[4,5,6]]\n",
    "for i in range(0,2) :\n",
    "    for j in range(0,3) :\n",
    "        a[i][j] **= 2 #제곱 연산자\n",
    "        a[i][j] *= 3\n",
    "        \n",
    "print(a)        "
   ]
  },
  {
   "cell_type": "code",
   "execution_count": 15,
   "id": "cf107236",
   "metadata": {},
   "outputs": [
    {
     "name": "stdout",
     "output_type": "stream",
     "text": [
      "[0, 1, 4, 9, 16]\n"
     ]
    }
   ],
   "source": [
    "A = [x**2 for x in range(5)]\n",
    "print(A)"
   ]
  },
  {
   "cell_type": "code",
   "execution_count": 19,
   "id": "94f0313a",
   "metadata": {},
   "outputs": [
    {
     "name": "stdout",
     "output_type": "stream",
     "text": [
      "[[0, 0, 0], [0, 0, 0]]\n"
     ]
    }
   ],
   "source": [
    "B = [[0 for j in range(1,4)] for i in range (3) if i >=1]\n",
    "print(B)"
   ]
  },
  {
   "cell_type": "code",
   "execution_count": 24,
   "id": "777dcb81",
   "metadata": {},
   "outputs": [
    {
     "name": "stdout",
     "output_type": "stream",
     "text": [
      "['I', 'a', 'am', 'boy']\n",
      "I a am boy\n"
     ]
    }
   ],
   "source": [
    "s = \"I am a boy\"\n",
    "L = s.split()# .split()에 디폴트가 공백\n",
    "L.sort()\n",
    "print(L)\n",
    "SS = ' '.join(L)\n",
    "print(SS)"
   ]
  },
  {
   "cell_type": "code",
   "execution_count": 29,
   "id": "50350c66",
   "metadata": {},
   "outputs": [
    {
     "name": "stdout",
     "output_type": "stream",
     "text": [
      "[1, 3, 5, 7, 9]\n",
      "['I', 'a', 'am', 'boy']\n",
      "[1, 4, 9]\n"
     ]
    }
   ],
   "source": [
    "A = list(range(1,10,2))\n",
    "print(A)\n",
    "print(L)\n",
    "B = list(map(lambda x:x*x,[1,2,3]))\n",
    "print(B)"
   ]
  },
  {
   "cell_type": "code",
   "execution_count": 31,
   "id": "1fb68ab2",
   "metadata": {},
   "outputs": [
    {
     "name": "stdout",
     "output_type": "stream",
     "text": [
      "[[  3  12  27]\n",
      " [ 48  75 108]]\n"
     ]
    }
   ],
   "source": [
    "# 스칼라와 벡터(또는 matrix, tensor)의 곱\n",
    "# Numpy\n",
    "import numpy as np\n",
    "A = [i*i for i in range(1,7)]\n",
    "AA = np.array(A)\n",
    "B = AA.reshape(2,3)\n",
    "print(B*3)"
   ]
  },
  {
   "cell_type": "raw",
   "id": "887f0f02",
   "metadata": {},
   "source": [
    "2차원 행렬의 곱을 구해보자"
   ]
  },
  {
   "cell_type": "code",
   "execution_count": null,
   "id": "6fea0c9b",
   "metadata": {},
   "outputs": [],
   "source": [
    "#List\n",
    "A=[[1,2],[3,4]]\n",
    "B=[[2,3],[3,1]]\n"
   ]
  },
  {
   "cell_type": "code",
   "execution_count": null,
   "id": "ca1d2691",
   "metadata": {},
   "outputs": [],
   "source": [
    "#List\n",
    "C = [[0 for j in range(len(B[0]))] for i in range(len(A))]\n",
    "print(C)\n"
   ]
  },
  {
   "cell_type": "code",
   "execution_count": null,
   "id": "c36e20b2",
   "metadata": {},
   "outputs": [],
   "source": [
    "#Numpy\n",
    "import numpy as np\n"
   ]
  },
  {
   "cell_type": "markdown",
   "id": "dc664b18",
   "metadata": {},
   "source": [
    "다양한 자료형을 모을 수 있을까?"
   ]
  },
  {
   "cell_type": "code",
   "execution_count": null,
   "id": "363de837",
   "metadata": {},
   "outputs": [],
   "source": [
    "#List\n",
    "A=[1,'a',2.2]\n",
    "B=[1,1,1]\n",
    "print(A)\n",
    "print(B)"
   ]
  },
  {
   "cell_type": "code",
   "execution_count": null,
   "id": "80f72537",
   "metadata": {},
   "outputs": [],
   "source": [
    "#Numpy\n",
    "import numpy as np\n",
    "AA = np.array(A)\n",
    "BB = np.array(B)\n",
    "print(AA)\n",
    "print(BB)"
   ]
  },
  {
   "cell_type": "markdown",
   "id": "52b9c20c",
   "metadata": {},
   "source": [
    "Random number 생성"
   ]
  },
  {
   "cell_type": "markdown",
   "id": "16286745",
   "metadata": {},
   "source": [
    "0이상 1미만의 랜덤 수를 100개 만들어 보세요"
   ]
  },
  {
   "cell_type": "code",
   "execution_count": 34,
   "id": "c5446318",
   "metadata": {},
   "outputs": [
    {
     "name": "stdout",
     "output_type": "stream",
     "text": [
      "[0.2762304181495585, 0.9774380549455572, 0.28288975860161847, 0.1595761525306264, 0.5865226442444308, 0.3021570206291804, 0.5973632703819799, 0.2026116568690406, 0.45554492061896124, 0.8814776966516407, 0.5183751246157001, 0.5818912415601554, 0.7461301524444568, 0.2807292130064071, 0.2932227346563624, 0.09703921272222271, 0.910765789825909, 0.04494578476623756, 0.8633772971881497, 0.9313630556908924, 0.8808309665143126, 0.8853275362397756, 0.5731875141042284, 0.7642366747472249, 0.8737892769197871, 0.4831965331784086, 0.6443489131468602, 0.25572873094468396, 0.5858145453159906, 0.23945306855712478, 0.5731490995461285, 0.8535613882958072, 0.0516215098950098, 0.02482797417585536, 0.9810328155480366, 0.35864540600883654, 0.06873987170031459, 0.8799754129665478, 0.8277687690881054, 0.7127146259421747, 0.8885795829941537, 0.1626652020350624, 0.11939178063850764, 0.7445956259020151, 0.34038126003277414, 0.8686367384026406, 0.19214315115793645, 0.47246284886464807, 0.7134060733623594, 0.5703350418943568, 0.5573135908258173, 0.047488466343168945, 0.42765685203179415, 0.6671169421654909, 0.3283305578091379, 0.8893819826172082, 0.37692457729435724, 0.77480981858262, 0.0038878431883320186, 0.2955843975497393, 0.328190674000997, 0.12958243901717026, 0.8651496959015292, 0.2066467257502278, 0.4536111518211132, 0.35658472386348006, 0.6611802709588729, 0.6642210514834798, 0.583317493242422, 0.8602861659987598, 0.5128550588906652, 0.5842921141661178, 0.8176510101215879, 0.6836335764073599, 0.6126286787147205, 0.015952871595211637, 0.533056804741402, 0.023185001512400105, 0.5272616779350902, 0.007469580708946766, 0.8572334745709701, 0.5623677390553501, 0.4949665240977392, 0.96738787171386, 0.33702779153400175, 0.9001573841991322, 0.9867639618523403, 0.9432235325766597, 0.9712695404765145, 0.842421436486172, 0.9613219283645587, 0.8192356082376065, 0.3445533136431769, 0.8567149445437765, 0.6624189253611118, 0.6805524590129997, 0.037806067190315984, 0.4986692900931716, 0.03300935903636615, 0.871563801618213]\n"
     ]
    }
   ],
   "source": [
    "#List\n",
    "import random\n",
    "N = [random.random() for j in range(100)]\n",
    "print(N)"
   ]
  },
  {
   "cell_type": "code",
   "execution_count": 35,
   "id": "4440f59d",
   "metadata": {},
   "outputs": [
    {
     "name": "stdout",
     "output_type": "stream",
     "text": [
      "[0.52991715 0.89914375 0.07400862 0.24190739 0.30041073 0.94975842\n",
      " 0.60420155 0.14779912 0.74391671 0.66956946 0.13283829 0.90367558\n",
      " 0.93769723 0.84220236 0.39636169 0.8780642  0.75169087 0.61496577\n",
      " 0.00625016 0.86328517 0.02698035 0.69358101 0.80366054 0.53168127\n",
      " 0.53917256 0.66892263 0.28865002 0.34031486 0.81654972 0.6649282\n",
      " 0.48187172 0.18815815 0.45442923 0.42180797 0.55326303 0.81183748\n",
      " 0.4491895  0.8995577  0.97408886 0.29825086 0.72374019 0.71938965\n",
      " 0.25937279 0.61757669 0.5240445  0.89324054 0.65149772 0.67973883\n",
      " 0.21883211 0.36820818 0.03644714 0.44503185 0.57015736 0.84638494\n",
      " 0.5845243  0.66126077 0.86839874 0.42603103 0.47148517 0.54714591\n",
      " 0.01620646 0.16765079 0.73498447 0.27042286 0.34361409 0.31626746\n",
      " 0.07093339 0.01532973 0.53149641 0.24987759 0.99955512 0.12395059\n",
      " 0.06956619 0.96166108 0.24848702 0.31483808 0.13560851 0.23148234\n",
      " 0.24004993 0.35739175 0.97491602 0.99955601 0.90934879 0.82948193\n",
      " 0.6988845  0.89565177 0.49971667 0.75421197 0.05623569 0.76187473\n",
      " 0.36121285 0.91529623 0.57161447 0.83580504 0.61550128 0.38484766\n",
      " 0.99030885 0.28179567 0.88956972 0.92375728]\n"
     ]
    }
   ],
   "source": [
    "#Numpy\n",
    "M = np.random.random(100)\n",
    "print(M)"
   ]
  },
  {
   "cell_type": "markdown",
   "id": "cbd320e5",
   "metadata": {},
   "source": [
    "위의 Numpy random수의 범위가 5~7이 되도록 조정해보세요"
   ]
  },
  {
   "cell_type": "code",
   "execution_count": 37,
   "id": "1df27126",
   "metadata": {},
   "outputs": [
    {
     "name": "stdout",
     "output_type": "stream",
     "text": [
      "[6.05983429 6.79828749 5.14801725 5.48381479 5.60082146 6.89951685\n",
      " 6.20840309 5.29559824 6.48783343 6.33913891 5.26567659 6.80735116\n",
      " 6.87539447 6.68440471 5.79272337 6.75612841 6.50338174 6.22993154\n",
      " 5.01250032 6.72657034 5.05396069 6.38716201 6.60732107 6.06336254\n",
      " 6.07834511 6.33784526 5.57730005 5.68062971 6.63309944 6.32985639\n",
      " 5.96374344 5.37631631 5.90885847 5.84361594 6.10652606 6.62367495\n",
      " 5.898379   6.79911541 6.94817773 5.59650172 6.44748038 6.43877929\n",
      " 5.51874558 6.23515338 6.04808899 6.78648107 6.30299545 6.35947767\n",
      " 5.43766421 5.73641636 5.07289428 5.89006371 6.14031472 6.69276988\n",
      " 6.1690486  6.32252154 6.73679747 5.85206207 5.94297034 6.09429182\n",
      " 5.03241292 5.33530157 6.46996894 5.54084572 5.68722817 5.63253493\n",
      " 5.14186678 5.03065946 6.06299282 5.49975518 6.99911024 5.24790118\n",
      " 5.13913237 6.92332215 5.49697403 5.62967616 5.27121702 5.46296468\n",
      " 5.48009986 5.71478349 6.94983205 6.99911202 6.81869758 6.65896386\n",
      " 6.397769   6.79130354 5.99943335 6.50842394 5.11247139 6.52374946\n",
      " 5.7224257  6.83059247 6.14322894 6.67161008 6.23100257 5.76969531\n",
      " 6.9806177  5.56359134 6.77913945 6.84751455]\n"
     ]
    }
   ],
   "source": [
    "K = M*2+5\n",
    "print(K)"
   ]
  },
  {
   "cell_type": "markdown",
   "id": "222e6590",
   "metadata": {},
   "source": [
    "키와 시력이 저장된 csv파일을 읽어와서 2차원의 float타입으로 저장해보세요"
   ]
  },
  {
   "cell_type": "code",
   "execution_count": 6,
   "id": "0e6d3962",
   "metadata": {},
   "outputs": [
    {
     "ename": "TypeError",
     "evalue": "map() must have at least two arguments.",
     "output_type": "error",
     "traceback": [
      "\u001b[0;31m---------------------------------------------------------------------------\u001b[0m",
      "\u001b[0;31mTypeError\u001b[0m                                 Traceback (most recent call last)",
      "Cell \u001b[0;32mIn[6], line 7\u001b[0m\n\u001b[1;32m      5\u001b[0m data \u001b[38;5;241m=\u001b[39m[]\n\u001b[1;32m      6\u001b[0m \u001b[38;5;28;01mfor\u001b[39;00m line \u001b[38;5;129;01min\u001b[39;00m f:\n\u001b[0;32m----> 7\u001b[0m     data\u001b[38;5;241m.\u001b[39mappend(\u001b[38;5;28mlist\u001b[39m(\u001b[38;5;28mmap\u001b[39m((\u001b[38;5;28mlist\u001b[39m,line\u001b[38;5;241m.\u001b[39msplit(\u001b[38;5;124m'\u001b[39m\u001b[38;5;124m,\u001b[39m\u001b[38;5;124m'\u001b[39m)))))\n\u001b[1;32m      9\u001b[0m \u001b[38;5;28mprint\u001b[39m(data)\n",
      "\u001b[0;31mTypeError\u001b[0m: map() must have at least two arguments."
     ]
    }
   ],
   "source": [
    "#List\n",
    "import csv\n",
    "f = open(\"heye.csv\")\n",
    "next(f)\n",
    "data =[]\n",
    "for line in f:\n",
    "    data.append(list(map((list,line.split(',')))))\n",
    "    \n",
    "print(data)"
   ]
  },
  {
   "cell_type": "code",
   "execution_count": 7,
   "id": "6abd45e9",
   "metadata": {},
   "outputs": [],
   "source": [
    "#Numpy\n",
    "import numpy as np\n"
   ]
  },
  {
   "cell_type": "code",
   "execution_count": 11,
   "id": "7e04053e",
   "metadata": {},
   "outputs": [
    {
     "name": "stdout",
     "output_type": "stream",
     "text": [
      "[[182.    0.2]\n",
      " [168.    1.2]\n",
      " [179.    0.8]\n",
      " [158.    1.5]]\n"
     ]
    }
   ],
   "source": [
    "import numpy as np\n",
    "data = np.loadtxt('heye.csv', delimiter=',', skiprows=1)\n",
    "print(data)"
   ]
  },
  {
   "cell_type": "markdown",
   "id": "3ecfbfec",
   "metadata": {},
   "source": [
    "(0,0)~(3,-2)의 택시거리(맨해튼 거리)와 유클리드 거리를 구해보세요"
   ]
  },
  {
   "cell_type": "code",
   "execution_count": 12,
   "id": "173338b9",
   "metadata": {},
   "outputs": [
    {
     "name": "stdout",
     "output_type": "stream",
     "text": [
      "-1\n",
      "3.605551275463989\n"
     ]
    }
   ],
   "source": [
    "#list\n",
    "import math\n",
    "A = [0,0]\n",
    "B = [3,-2]\n",
    "print((A[0]-B[0])+(A[1]-B[1])) #멘헤튼 거리\n",
    "print(math.sqrt((A[0]-B[0])**2 + (A[1]-B[1])**2))#유클리드거리"
   ]
  },
  {
   "cell_type": "code",
   "execution_count": 14,
   "id": "98816ce6",
   "metadata": {},
   "outputs": [
    {
     "name": "stdout",
     "output_type": "stream",
     "text": [
      "3.605551275463989\n",
      "5.0\n"
     ]
    }
   ],
   "source": [
    "#Numpy\n",
    "import numpy as np\n",
    "AA = np.array(A)\n",
    "BB = np.array(B)\n",
    "CC = AA - BB\n",
    "print(np.linalg.norm(CC)) #유클리드 거리\n",
    "print(np.linalg.norm(CC,1))#멘헤튼 거리"
   ]
  },
  {
   "cell_type": "markdown",
   "id": "10457aea",
   "metadata": {},
   "source": [
    "10개의 원소 중에서 5이상이면 0으로 변경하고 5미만이면 원래값 유지"
   ]
  },
  {
   "cell_type": "code",
   "execution_count": 15,
   "id": "522eadd4",
   "metadata": {},
   "outputs": [],
   "source": [
    "A = [ -5, -1, 0, 2, 3, 5, 7, 5, 9, 10]"
   ]
  },
  {
   "cell_type": "code",
   "execution_count": 20,
   "id": "be32c3a8",
   "metadata": {},
   "outputs": [
    {
     "name": "stdout",
     "output_type": "stream",
     "text": [
      "[-5, -1, 0, 2, 3, 5, 7, 5, 9, 10]\n"
     ]
    }
   ],
   "source": [
    "#List\n",
    "for i in A :\n",
    "    if(i < 5) :\n",
    "        i = 0\n",
    "print(A)    ######"
   ]
  },
  {
   "cell_type": "code",
   "execution_count": 22,
   "id": "bfad2c06",
   "metadata": {},
   "outputs": [
    {
     "data": {
      "text/plain": [
       "array([-5, -1,  0,  2,  3,  5,  0,  5,  0,  0])"
      ]
     },
     "execution_count": 22,
     "metadata": {},
     "output_type": "execute_result"
    }
   ],
   "source": [
    "#Numpy\n",
    "AA = np.array(A)\n",
    "np.where(AA > 5,0,AA)"
   ]
  },
  {
   "cell_type": "code",
   "execution_count": null,
   "id": "e23557a4",
   "metadata": {},
   "outputs": [],
   "source": []
  }
 ],
 "metadata": {
  "kernelspec": {
   "display_name": "Python 3 (ipykernel)",
   "language": "python",
   "name": "python3"
  },
  "language_info": {
   "codemirror_mode": {
    "name": "ipython",
    "version": 3
   },
   "file_extension": ".py",
   "mimetype": "text/x-python",
   "name": "python",
   "nbconvert_exporter": "python",
   "pygments_lexer": "ipython3",
   "version": "3.11.7"
  }
 },
 "nbformat": 4,
 "nbformat_minor": 5
}
