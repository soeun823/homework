{
 "cells": [
  {
   "cell_type": "markdown",
   "id": "1a85970f",
   "metadata": {},
   "source": [
    "# Dictionary example"
   ]
  },
  {
   "cell_type": "markdown",
   "id": "9b8610c4",
   "metadata": {},
   "source": [
    "1에서 20까지를 key, 1에서 20까지의 거듭제곱을 value로 D구성하기"
   ]
  },
  {
   "cell_type": "code",
   "execution_count": 1,
   "id": "23351a7e",
   "metadata": {},
   "outputs": [
    {
     "name": "stdout",
     "output_type": "stream",
     "text": [
      "{1: 1, 2: 4, 3: 9, 4: 16, 5: 25, 6: 36, 7: 49, 8: 64, 9: 81, 10: 100, 11: 121, 12: 144, 13: 169, 14: 196, 15: 225, 16: 256, 17: 289, 18: 324, 19: 361, 20: 400}\n"
     ]
    }
   ],
   "source": [
    "D = {i:i*i for i in range(1,21)}\n",
    "print(D)"
   ]
  },
  {
   "cell_type": "markdown",
   "id": "b17224ab",
   "metadata": {},
   "source": [
    "단어를 입력하면 단어의 스펠을 key, 스펠의 개수를 value로 D구성하기"
   ]
  },
  {
   "cell_type": "code",
   "execution_count": null,
   "id": "4a7d97e2",
   "metadata": {},
   "outputs": [],
   "source": [
    "word = input()\n",
    "L = list(word)\n",
    "D = {ch:L.count(ch) for ch in L}\n",
    "print(D)"
   ]
  },
  {
   "cell_type": "markdown",
   "id": "e33eed45",
   "metadata": {},
   "source": [
    "2024년도에 대해 날짜를 '월/일'의 형식으로 입력받아서 해당 날짜까지의 총 일수를 출력해보자"
   ]
  },
  {
   "cell_type": "code",
   "execution_count": null,
   "id": "7b6e7372",
   "metadata": {},
   "outputs": [],
   "source": [
    "\n",
    "m,d = map(int, input(\"(ex)4/20:\").split(\"/\"))\n",
    "dic = {i: 30+(i%2) for i in range(1, 13)}\n",
    "dic[2]=29\n",
    "lst = []\n",
    "for i in range(1,m+1):\n",
    "    lst.append(dic[i])\n",
    "print(f\"총일수 : {sum(lst)-(dic[m]-d)}\")"
   ]
  },
  {
   "cell_type": "code",
   "execution_count": null,
   "id": "073804b7",
   "metadata": {},
   "outputs": [],
   "source": []
  },
  {
   "cell_type": "code",
   "execution_count": null,
   "id": "41db2509",
   "metadata": {},
   "outputs": [],
   "source": []
  },
  {
   "cell_type": "markdown",
   "id": "38bd62b4",
   "metadata": {},
   "source": [
    "# NLP : 자연어 처리"
   ]
  },
  {
   "cell_type": "code",
   "execution_count": 4,
   "id": "fa8bb234",
   "metadata": {},
   "outputs": [],
   "source": [
    "s = \"\"\"Nineteen Eighty-Four makes depressing but essential reading. \n",
    "Published in 1949, \n",
    "it’s the author’s vision of a dystopian future dominated by totalitarian state surveillance, mind control and perpetual war. \n",
    "At the centre of the novel is Winston, \n",
    "whose job is to rewrite old news stories so that they toe the party line, \n",
    "whom we follow in his quest for rebellion against the government he works for. \n",
    "Its memorable opening line sets the unsettling tone for the rest of this uncomfortable novel\"\"\""
   ]
  },
  {
   "cell_type": "markdown",
   "id": "60e7f420",
   "metadata": {},
   "source": [
    "특수문자 없애기"
   ]
  },
  {
   "cell_type": "code",
   "execution_count": null,
   "id": "2f2ed687",
   "metadata": {},
   "outputs": [],
   "source": [
    "s1 = [i for i in s if i.isalpha() or i.isspace()]\n",
    "print(\"\".join(s1))"
   ]
  },
  {
   "cell_type": "code",
   "execution_count": 5,
   "id": "5b5ebb6d",
   "metadata": {},
   "outputs": [
    {
     "name": "stdout",
     "output_type": "stream",
     "text": [
      "nineteen eighty-four makes depressing but essential reading. \n",
      "published in 1949, \n",
      "it’s the author’s vision of a dystopian future dominated by totalitarian state surveillance, mind control and perpetual war. \n",
      "at the centre of the novel is winston, \n",
      "whose job is to rewrite old news stories so that they toe the party line, \n",
      "whom we follow in his quest for rebellion against the government he works for. \n",
      "its memorable opening line sets the unsettling tone for the rest of this uncomfortable novel\n"
     ]
    }
   ],
   "source": [
    "#소문자로 통일\n",
    "s2 = s.lower()\n",
    "print(s2)"
   ]
  },
  {
   "cell_type": "markdown",
   "id": "05085602",
   "metadata": {},
   "source": [
    "bow(bag of words) 구성"
   ]
  },
  {
   "cell_type": "code",
   "execution_count": 8,
   "id": "fa29f425",
   "metadata": {},
   "outputs": [
    {
     "name": "stdout",
     "output_type": "stream",
     "text": [
      "{'nineteen': 1, 'eighty-four': 1, 'makes': 1, 'depressing': 1, 'but': 1, 'essential': 1, 'reading.': 1, 'published': 1, 'in': 2, '1949,': 1, 'it’s': 1, 'the': 7, 'author’s': 1, 'vision': 1, 'of': 3, 'a': 1, 'dystopian': 1, 'future': 1, 'dominated': 1, 'by': 1, 'totalitarian': 1, 'state': 1, 'surveillance,': 1, 'mind': 1, 'control': 1, 'and': 1, 'perpetual': 1, 'war.': 1, 'at': 1, 'centre': 1, 'novel': 2, 'is': 2, 'winston,': 1, 'whose': 1, 'job': 1, 'to': 1, 'rewrite': 1, 'old': 1, 'news': 1, 'stories': 1, 'so': 1, 'that': 1, 'they': 1, 'toe': 1, 'party': 1, 'line,': 1, 'whom': 1, 'we': 1, 'follow': 1, 'his': 1, 'quest': 1, 'for': 2, 'rebellion': 1, 'against': 1, 'government': 1, 'he': 1, 'works': 1, 'for.': 1, 'its': 1, 'memorable': 1, 'opening': 1, 'line': 1, 'sets': 1, 'unsettling': 1, 'tone': 1, 'rest': 1, 'this': 1, 'uncomfortable': 1}\n"
     ]
    }
   ],
   "source": [
    "L = s2.split()\n",
    "bow = {char : L.count(char) for char in L}\n",
    "print(bow)"
   ]
  },
  {
   "cell_type": "markdown",
   "id": "87392ffb",
   "metadata": {},
   "source": [
    "많은 데이터의 bow구성 시 속도 개선"
   ]
  },
  {
   "cell_type": "code",
   "execution_count": null,
   "id": "a3ad4a00",
   "metadata": {},
   "outputs": [],
   "source": [
    "bow = {}\n",
    "for token in L:\n",
    "    \n",
    "print(bow)"
   ]
  },
  {
   "cell_type": "markdown",
   "id": "5aff3187",
   "metadata": {},
   "source": [
    "정규식으로 특수문자 제거하기"
   ]
  },
  {
   "cell_type": "code",
   "execution_count": null,
   "id": "7f3b8a3b",
   "metadata": {},
   "outputs": [],
   "source": [
    "import re\n",
    "removechr = re.compile(\"[\\W_]\")\n",
    "s3 = removechr.sub(' ',s)\n",
    "print(s3)"
   ]
  },
  {
   "cell_type": "code",
   "execution_count": null,
   "id": "2e72d79b",
   "metadata": {},
   "outputs": [],
   "source": []
  }
 ],
 "metadata": {
  "kernelspec": {
   "display_name": "Python 3 (ipykernel)",
   "language": "python",
   "name": "python3"
  },
  "language_info": {
   "codemirror_mode": {
    "name": "ipython",
    "version": 3
   },
   "file_extension": ".py",
   "mimetype": "text/x-python",
   "name": "python",
   "nbconvert_exporter": "python",
   "pygments_lexer": "ipython3",
   "version": "3.11.7"
  }
 },
 "nbformat": 4,
 "nbformat_minor": 5
}
