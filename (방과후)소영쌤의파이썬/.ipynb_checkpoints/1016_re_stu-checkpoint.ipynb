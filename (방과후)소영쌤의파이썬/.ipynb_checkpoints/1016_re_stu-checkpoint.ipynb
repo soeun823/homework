{
 "cells": [
  {
   "cell_type": "markdown",
   "id": "056d8837-24f0-400f-bd48-4b16101216cb",
   "metadata": {},
   "source": [
    "## 1. Basic Pattern Matching"
   ]
  },
  {
   "cell_type": "code",
   "execution_count": null,
   "id": "245afac8-87a8-44c6-ba81-2fb39b94365c",
   "metadata": {},
   "outputs": [],
   "source": [
    "import re\n",
    "\n",
    "text = \"The quick brown fox jumps over the lazy dog\"\n",
    "pattern = r'fox'\n",
    "match = re.search(pattern, text) #return object, cf)re.match()\n",
    "\n",
    "if match:\n",
    "    print(f\"Found '{match.group()}' at position {match.start()} to {match.end()}\")\n"
   ]
  },
  {
   "cell_type": "markdown",
   "id": "6d290a1e-2012-4d31-99d5-1312863e7d81",
   "metadata": {},
   "source": [
    "## 2. Find All Occurrences"
   ]
  },
  {
   "cell_type": "code",
   "execution_count": null,
   "id": "691f6ae0-54b2-4c75-beb9-d01c96af52d8",
   "metadata": {},
   "outputs": [],
   "source": [
    "import re\n",
    "\n",
    "text = \"apple, banana, cherry, apple, banana\"\n",
    "pattern = r'apple'\n",
    "matches = re.findall(pattern, text)  #return list\n",
    "\n",
    "print(f\"Found {len(matches)} occurrences of 'apple': {matches}\")\n"
   ]
  },
  {
   "cell_type": "markdown",
   "id": "32f838e6-60ff-4052-b19c-715411963fca",
   "metadata": {},
   "source": [
    "## 3. Pattern Substitution"
   ]
  },
  {
   "cell_type": "code",
   "execution_count": null,
   "id": "dfdf70a5-f233-4476-ad7d-bb60734ef82b",
   "metadata": {},
   "outputs": [],
   "source": [
    "import re\n",
    "\n",
    "text = \"Mr. Smith went to Washington.\"\n",
    "pattern = r'Mr\\.\\s\\w+'\n",
    "replaced = re.sub(pattern, 'John Doe', text)\n",
    "\n",
    "print(replaced)\n"
   ]
  },
  {
   "cell_type": "markdown",
   "id": "35ee7b1b-8df8-493e-9907-0cbfca25f489",
   "metadata": {},
   "source": [
    "## 4. Extracting Digits"
   ]
  },
  {
   "cell_type": "code",
   "execution_count": null,
   "id": "4f57df1d-1856-40eb-8c0b-7710c8f1f575",
   "metadata": {},
   "outputs": [],
   "source": [
    "import re\n",
    "\n",
    "text = \"My phone number is 123-456-7890\"\n",
    "pattern = r'\\d+'\n",
    "numbers = re.findall(pattern, text)\n",
    "\n",
    "print(f\"Extracted numbers: {numbers}\")\n"
   ]
  },
  {
   "cell_type": "markdown",
   "id": "98919bfa-8f60-4317-9cba-b65d88f42aec",
   "metadata": {},
   "source": [
    "## 5. Validating an Email Address"
   ]
  },
  {
   "cell_type": "code",
   "execution_count": null,
   "id": "93e955b0-555e-4e00-a39b-3d75caa8e836",
   "metadata": {},
   "outputs": [],
   "source": [
    "import re\n",
    "\n",
    "email = \"test@example.com\"\n",
    "pattern = r'^[a-zA-Z0-9_.+-]+@[a-zA-Z0-9-]+\\.[a-zA-Z0-9-.]+$'\n",
    "is_valid = re.match(pattern, email)\n",
    "\n",
    "if is_valid:\n",
    "    print(\"Valid email address\")\n",
    "else:\n",
    "    print(\"Invalid email address\")\n"
   ]
  },
  {
   "cell_type": "code",
   "execution_count": null,
   "id": "3ab9f998-1cb4-4a43-9d40-f07767012d40",
   "metadata": {},
   "outputs": [],
   "source": [
    "import re\n",
    "\n",
    "email = input(\"Input E-mail:\")\n",
    "pattern = r'^[a-zA-Z0-9_.+-]+@[a-zA-Z0-9-]+\\.[a-zA-Z0-9-.]+$'\n",
    "is_valid = re.match(pattern, email)\n",
    "\n",
    "if is_valid:\n",
    "    print(\"Valid email address\")\n",
    "else:\n",
    "    print(\"Invalid email address\")\n"
   ]
  },
  {
   "cell_type": "markdown",
   "id": "8beaa4f3-a3f8-4526-8b7c-48e716bb68af",
   "metadata": {},
   "source": [
    "## 6. Splitting a String by a Pattern"
   ]
  },
  {
   "cell_type": "code",
   "execution_count": null,
   "id": "863d8c02-9f4e-4ef5-a662-526d257fed9d",
   "metadata": {},
   "outputs": [],
   "source": [
    "import re\n",
    "\n",
    "text = \"apple;banana;cherry\"\n",
    "pattern = r';'\n",
    "fruits = re.split(pattern, text) #return list\n",
    "\n",
    "print(f\"Split result: {fruits}\")\n"
   ]
  },
  {
   "cell_type": "markdown",
   "id": "dfc7ac9c-7a55-43a1-9728-f9a5f40bfde4",
   "metadata": {},
   "source": [
    "## 7. Capturing Groups"
   ]
  },
  {
   "cell_type": "code",
   "execution_count": null,
   "id": "38baf9f3-e58b-4063-b91a-b11ff2819127",
   "metadata": {},
   "outputs": [],
   "source": [
    "import re\n",
    "\n",
    "text = \"The price is $100\"\n",
    "pattern = r'\\$(\\d+)'\n",
    "match = re.search(pattern, text)\n",
    "\n",
    "if match:\n",
    "    print(f\"Price: {match.group(1)}\")\n"
   ]
  },
  {
   "cell_type": "code",
   "execution_count": null,
   "id": "073db877-39c3-4475-95aa-ceca67e7145c",
   "metadata": {},
   "outputs": [],
   "source": [
    "text='Paris in the the spring.'\n",
    "p1='(\\w+)\\s+\\\\1'                # 동일한 단어가 2개 나와야 매치\n",
    "m1 = re.search(p1, text)\n",
    "print(\"m1 결과 : \", m1.group())\n",
    "n1=re.findall(p1,text)\n",
    "print(n1)"
   ]
  },
  {
   "cell_type": "markdown",
   "id": "8a226672-8e0f-4243-82e8-844d78f7ba6e",
   "metadata": {},
   "source": [
    "## 8. Match at the Beginning of a String"
   ]
  },
  {
   "cell_type": "code",
   "execution_count": null,
   "id": "fbefdfe7-4549-4438-8abb-8b4dea48c5cd",
   "metadata": {},
   "outputs": [],
   "source": [
    "import re\n",
    "\n",
    "text = \"Hello world\"\n",
    "pattern = r'^Hello'\n",
    "if re.match(pattern, text):\n",
    "    print(\"String starts with 'Hello'\")\n"
   ]
  },
  {
   "cell_type": "markdown",
   "id": "a42167fa-d8ab-4bea-8e75-ca9ff241c538",
   "metadata": {},
   "source": [
    "## 9. Match at the End of a String"
   ]
  },
  {
   "cell_type": "code",
   "execution_count": null,
   "id": "672bec5c-a228-492f-b72d-61a4e4b2710f",
   "metadata": {},
   "outputs": [],
   "source": [
    "import re\n",
    "\n",
    "text = \"It is sunny today.\"\n",
    "pattern = r'today\\.$'\n",
    "if re.search(pattern, text):\n",
    "    print(\"String ends with 'today.'\")\n"
   ]
  },
  {
   "cell_type": "markdown",
   "id": "97d59556-bf3b-4995-a989-7df5b49cf586",
   "metadata": {},
   "source": [
    "## 10. Non-Greedy Matching"
   ]
  },
  {
   "cell_type": "code",
   "execution_count": null,
   "id": "82055ab7-c06e-4d06-81e7-c839d803466b",
   "metadata": {},
   "outputs": [],
   "source": [
    "import re\n",
    "\n",
    "text = \"<div>Content</div><div>More content</div>\"\n",
    "pattern = r'<div>.*?</div>'\n",
    "matches = re.findall(pattern, text)\n",
    "\n",
    "print(f\"Non-greedy match: {matches}\")\n"
   ]
  },
  {
   "cell_type": "markdown",
   "id": "6f05c539-2f53-44fd-9a01-a7004044c2e7",
   "metadata": {},
   "source": [
    "# Quiz. 휴대폰 번호 가운데 4자리를 찾아 보안('****')처리 하세요"
   ]
  },
  {
   "cell_type": "code",
   "execution_count": null,
   "id": "bed94adf-c46e-4d43-b169-8340dc758822",
   "metadata": {},
   "outputs": [],
   "source": [
    "import re\n",
    "\n",
    "text = '''\n",
    "Tom 010-1234-5678   \n",
    "Park 010.9876.5432\n",
    "Lee 01077772311\n",
    "'''"
   ]
  },
  {
   "cell_type": "code",
   "execution_count": null,
   "id": "4ed29bd7-0765-49d7-b70f-470eb8a6e94c",
   "metadata": {},
   "outputs": [],
   "source": [
    "#여기 작성"
   ]
  },
  {
   "cell_type": "code",
   "execution_count": null,
   "id": "361bd72f-8349-474e-8a07-47b4b37ce776",
   "metadata": {},
   "outputs": [],
   "source": []
  },
  {
   "cell_type": "code",
   "execution_count": null,
   "id": "4468fb62-b595-48e4-ae66-c44acf4102b9",
   "metadata": {},
   "outputs": [],
   "source": []
  },
  {
   "cell_type": "code",
   "execution_count": null,
   "id": "e27b7f8d-a49f-4d7d-8d13-955ec7a3ceb3",
   "metadata": {},
   "outputs": [],
   "source": []
  },
  {
   "cell_type": "code",
   "execution_count": null,
   "id": "5e10b05a-2fa2-4e7a-9ae4-4989394a5377",
   "metadata": {},
   "outputs": [],
   "source": []
  },
  {
   "cell_type": "code",
   "execution_count": null,
   "id": "53af5b96-93f8-449e-a666-2c0bba614318",
   "metadata": {},
   "outputs": [],
   "source": []
  }
 ],
 "metadata": {
  "kernelspec": {
   "display_name": "Python 3 (ipykernel)",
   "language": "python",
   "name": "python3"
  },
  "language_info": {
   "codemirror_mode": {
    "name": "ipython",
    "version": 3
   },
   "file_extension": ".py",
   "mimetype": "text/x-python",
   "name": "python",
   "nbconvert_exporter": "python",
   "pygments_lexer": "ipython3",
   "version": "3.11.7"
  }
 },
 "nbformat": 4,
 "nbformat_minor": 5
}
