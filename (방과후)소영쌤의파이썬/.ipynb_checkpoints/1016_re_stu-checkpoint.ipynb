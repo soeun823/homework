{
 "cells": [
  {
   "cell_type": "markdown",
   "id": "056d8837-24f0-400f-bd48-4b16101216cb",
   "metadata": {},
   "source": [
    "## 1. Basic Pattern Matching"
   ]
  },
  {
   "cell_type": "code",
   "execution_count": 2,
   "id": "245afac8-87a8-44c6-ba81-2fb39b94365c",
   "metadata": {},
   "outputs": [
    {
     "name": "stdout",
     "output_type": "stream",
     "text": [
      "Found 'fox' at position 16 to 19\n"
     ]
    }
   ],
   "source": [
    "import re\n",
    "\n",
    "text = \"The quick brown fox jumps over the lazy dog\"\n",
    "pattern = r'fox'\n",
    "match = re.search(pattern, text) #return object, cf)re.match()\n",
    "\n",
    "if match:\n",
    "    print(f\"Found '{match.group()}' at position {match.start()} to {match.end()}\")\n"
   ]
  },
  {
   "cell_type": "markdown",
   "id": "9d595be1",
   "metadata": {},
   "source": [
    "re.search()는 text에서 pattern에 해당하는 부분을 검색합니다.\n",
    "\n",
    "만약 일치하는 부분이 있으면 match.group()은 일치한 문자열을 반환하고, \n",
    "\n",
    "match.start()와 match.end()는 일치한 문자열의 시작과 끝 위치를 반환합니다."
   ]
  },
  {
   "cell_type": "markdown",
   "id": "6d290a1e-2012-4d31-99d5-1312863e7d81",
   "metadata": {},
   "source": [
    "## 2. Find All Occurrences"
   ]
  },
  {
   "cell_type": "code",
   "execution_count": 4,
   "id": "691f6ae0-54b2-4c75-beb9-d01c96af52d8",
   "metadata": {},
   "outputs": [
    {
     "name": "stdout",
     "output_type": "stream",
     "text": [
      "Found 2 occurrences of 'apple': ['apple', 'apple']\n",
      "<class 'list'>\n"
     ]
    }
   ],
   "source": [
    "import re\n",
    "\n",
    "text = \"apple, banana, cherry, apple, banana\"\n",
    "pattern = r'apple'\n",
    "matches = re.findall(pattern, text)  #return list\n",
    "\n",
    "print(f\"Found {len(matches)} occurrences of 'apple': {matches}\")\n"
   ]
  },
  {
   "cell_type": "markdown",
   "id": "65ac9e39",
   "metadata": {},
   "source": [
    "찾고자 하는 패턴을 모두 찾아서 리스트로 반환"
   ]
  },
  {
   "cell_type": "markdown",
   "id": "32f838e6-60ff-4052-b19c-715411963fca",
   "metadata": {},
   "source": [
    "## 3. Pattern Substitution"
   ]
  },
  {
   "cell_type": "code",
   "execution_count": 5,
   "id": "dfdf70a5-f233-4476-ad7d-bb60734ef82b",
   "metadata": {},
   "outputs": [
    {
     "name": "stdout",
     "output_type": "stream",
     "text": [
      "John Doe went to Washington.\n"
     ]
    }
   ],
   "source": [
    "import re\n",
    "\n",
    "text = \"Mr. Smith went to Washington.\"\n",
    "pattern = r'Mr\\.\\s\\w+'\n",
    "replaced = re.sub(pattern, 'John Doe', text)\n",
    "\n",
    "print(replaced)\n"
   ]
  },
  {
   "cell_type": "markdown",
   "id": "8a5537af",
   "metadata": {},
   "source": [
    "미스터. 공백이름 형태를 'John Doe'으로 바꿔줌"
   ]
  },
  {
   "cell_type": "markdown",
   "id": "35ee7b1b-8df8-493e-9907-0cbfca25f489",
   "metadata": {},
   "source": [
    "## 4. Extracting Digits"
   ]
  },
  {
   "cell_type": "code",
   "execution_count": 8,
   "id": "4f57df1d-1856-40eb-8c0b-7710c8f1f575",
   "metadata": {},
   "outputs": [
    {
     "name": "stdout",
     "output_type": "stream",
     "text": [
      "Extracted numbers: ['123', '456', '7890']\n",
      "<class 'list'>\n"
     ]
    }
   ],
   "source": [
    "import re\n",
    "\n",
    "text = \"My phone number is 123-456-7890\"\n",
    "pattern = r'\\d+'\n",
    "numbers = re.findall(pattern, text)\n",
    "\n",
    "print(f\"Extracted numbers: {numbers}\")\n",
    "print(type(numbers))\n"
   ]
  },
  {
   "cell_type": "markdown",
   "id": "2622f1b1",
   "metadata": {},
   "source": [
    "숫자 하나 이상 부터 숫자가 아닌거 까지 리스트로 반환"
   ]
  },
  {
   "cell_type": "markdown",
   "id": "98919bfa-8f60-4317-9cba-b65d88f42aec",
   "metadata": {},
   "source": [
    "## 5. Validating an Email Address"
   ]
  },
  {
   "cell_type": "code",
   "execution_count": 9,
   "id": "93e955b0-555e-4e00-a39b-3d75caa8e836",
   "metadata": {},
   "outputs": [
    {
     "name": "stdout",
     "output_type": "stream",
     "text": [
      "Valid email address\n"
     ]
    }
   ],
   "source": [
    "import re\n",
    "\n",
    "email = \"test@example.com\"\n",
    "pattern = r'^[a-zA-Z0-9_.+-]+@[a-zA-Z0-9-]+\\.[a-zA-Z0-9-.]+$'\n",
    "is_valid = re.match(pattern, email)\n",
    "\n",
    "if is_valid:\n",
    "    print(\"Valid email address\")\n",
    "else:\n",
    "    print(\"Invalid email address\")\n"
   ]
  },
  {
   "cell_type": "code",
   "execution_count": 10,
   "id": "3ab9f998-1cb4-4a43-9d40-f07767012d40",
   "metadata": {},
   "outputs": [
    {
     "name": "stdout",
     "output_type": "stream",
     "text": [
      "Input E-mail:dfsf\n",
      "Invalid email address\n"
     ]
    }
   ],
   "source": [
    "import re\n",
    "\n",
    "email = input(\"Input E-mail:\")\n",
    "pattern = r'^[a-zA-Z0-9_.+-]+@[a-zA-Z0-9-]+\\.[a-zA-Z0-9-.]+$'\n",
    "is_valid = re.match(pattern, email)\n",
    "\n",
    "if is_valid:\n",
    "    print(\"Valid email address\")\n",
    "else:\n",
    "    print(\"Invalid email address\")\n"
   ]
  },
  {
   "cell_type": "markdown",
   "id": "904cd160",
   "metadata": {},
   "source": [
    "시작으로 a~z, A~Z, 0~9와 특수기호 _.+- 에 해당해야 이메일 주소이름으로 들어올 수 있고 @ 이후 a~z A~Z 0~9와 특수기호 - 에 해당하는 것들을 찾고 \\.a~zA~Z 0~9 -. 에 맞는 조건이 마지막으로 온다면 조건에 맞는 이메일 주소가 됩니다."
   ]
  },
  {
   "cell_type": "markdown",
   "id": "8beaa4f3-a3f8-4526-8b7c-48e716bb68af",
   "metadata": {},
   "source": [
    "## 6. Splitting a String by a Pattern"
   ]
  },
  {
   "cell_type": "code",
   "execution_count": 11,
   "id": "863d8c02-9f4e-4ef5-a662-526d257fed9d",
   "metadata": {},
   "outputs": [
    {
     "name": "stdout",
     "output_type": "stream",
     "text": [
      "Split result: ['apple', 'banana', 'cherry']\n"
     ]
    }
   ],
   "source": [
    "import re\n",
    "\n",
    "text = \"apple;banana;cherry\"\n",
    "pattern = r';'\n",
    "fruits = re.split(pattern, text) #return list\n",
    "\n",
    "print(f\"Split result: {fruits}\")\n"
   ]
  },
  {
   "cell_type": "markdown",
   "id": "dfc7ac9c-7a55-43a1-9728-f9a5f40bfde4",
   "metadata": {},
   "source": [
    "## 7. Capturing Groups"
   ]
  },
  {
   "cell_type": "code",
   "execution_count": 13,
   "id": "38baf9f3-e58b-4063-b91a-b11ff2819127",
   "metadata": {},
   "outputs": [
    {
     "name": "stdout",
     "output_type": "stream",
     "text": [
      "Price: 100\n"
     ]
    }
   ],
   "source": [
    "import re\n",
    "\n",
    "text = \"The price is $100\"\n",
    "pattern = r'\\$(\\d+)'\n",
    "match = re.search(pattern, text)\n",
    "\n",
    "if match:\n",
    "    print(f\"Price: {match.group(1)}\")\n"
   ]
  },
  {
   "cell_type": "code",
   "execution_count": 14,
   "id": "073db877-39c3-4475-95aa-ceca67e7145c",
   "metadata": {},
   "outputs": [
    {
     "name": "stdout",
     "output_type": "stream",
     "text": [
      "m1 결과 :  the the\n",
      "['the']\n"
     ]
    }
   ],
   "source": [
    "text='Paris in the the spring.'\n",
    "p1='(\\w+)\\s+\\\\1'                # 동일한 단어가 2개 나와야 매치\n",
    "m1 = re.search(p1, text)\n",
    "print(\"m1 결과 : \", m1.group())\n",
    "n1=re.findall(p1,text)\n",
    "print(n1)"
   ]
  },
  {
   "cell_type": "markdown",
   "id": "8a226672-8e0f-4243-82e8-844d78f7ba6e",
   "metadata": {},
   "source": [
    "## 8. Match at the Beginning of a String"
   ]
  },
  {
   "cell_type": "code",
   "execution_count": 15,
   "id": "fbefdfe7-4549-4438-8abb-8b4dea48c5cd",
   "metadata": {},
   "outputs": [
    {
     "name": "stdout",
     "output_type": "stream",
     "text": [
      "String starts with 'Hello'\n"
     ]
    }
   ],
   "source": [
    "import re\n",
    "\n",
    "text = \"Hello world\"\n",
    "pattern = r'^Hello'\n",
    "if re.match(pattern, text):\n",
    "    print(\"String starts with 'Hello'\")\n"
   ]
  },
  {
   "cell_type": "markdown",
   "id": "a42167fa-d8ab-4bea-8e75-ca9ff241c538",
   "metadata": {},
   "source": [
    "## 9. Match at the End of a String"
   ]
  },
  {
   "cell_type": "code",
   "execution_count": 16,
   "id": "672bec5c-a228-492f-b72d-61a4e4b2710f",
   "metadata": {},
   "outputs": [
    {
     "name": "stdout",
     "output_type": "stream",
     "text": [
      "String ends with 'today.'\n"
     ]
    }
   ],
   "source": [
    "import re\n",
    "\n",
    "text = \"It is sunny today.\"\n",
    "pattern = r'today\\.$'\n",
    "if re.search(pattern, text):\n",
    "    print(\"String ends with 'today.'\")\n"
   ]
  },
  {
   "cell_type": "markdown",
   "id": "97d59556-bf3b-4995-a989-7df5b49cf586",
   "metadata": {},
   "source": [
    "## 10. Non-Greedy Matching"
   ]
  },
  {
   "cell_type": "code",
   "execution_count": 20,
   "id": "82055ab7-c06e-4d06-81e7-c839d803466b",
   "metadata": {},
   "outputs": [
    {
     "name": "stdout",
     "output_type": "stream",
     "text": [
      "Non-greedy match: ['<div>Content</div>', '<div>More content</div>']\n"
     ]
    }
   ],
   "source": [
    "import re\n",
    "\n",
    "text = \"<div>Content</div><div>More content</div>\"\n",
    "pattern = r'<div>.*?</div>'\n",
    "matches = re.findall(pattern, text)\n",
    "\n",
    "print(f\"Non-greedy match: {matches}\")\n"
   ]
  },
  {
   "cell_type": "code",
   "execution_count": null,
   "id": "9b6ee13e",
   "metadata": {},
   "outputs": [],
   "source": [
    "?는 수량자 기능이 아닌\n",
    "수량자 다음에 붙여져 있음으로 \"non-greedy\" 를 의미한다"
   ]
  },
  {
   "cell_type": "markdown",
   "id": "6f05c539-2f53-44fd-9a01-a7004044c2e7",
   "metadata": {},
   "source": [
    "# Quiz. 휴대폰 번호 가운데 4자리를 찾아 보안('****')처리 하세요"
   ]
  },
  {
   "cell_type": "code",
   "execution_count": null,
   "id": "bed94adf-c46e-4d43-b169-8340dc758822",
   "metadata": {},
   "outputs": [],
   "source": [
    "import re\n",
    "\n",
    "text = '''\n",
    "Tom 010-1234-5678   \n",
    "Park 010.9876.5432\n",
    "Lee 01077772311\n",
    "'''"
   ]
  },
  {
   "cell_type": "code",
   "execution_count": null,
   "id": "4ed29bd7-0765-49d7-b70f-470eb8a6e94c",
   "metadata": {},
   "outputs": [],
   "source": [
    "#여기 작성\n"
   ]
  },
  {
   "cell_type": "code",
   "execution_count": null,
   "id": "361bd72f-8349-474e-8a07-47b4b37ce776",
   "metadata": {},
   "outputs": [],
   "source": []
  },
  {
   "cell_type": "code",
   "execution_count": null,
   "id": "4468fb62-b595-48e4-ae66-c44acf4102b9",
   "metadata": {},
   "outputs": [],
   "source": []
  },
  {
   "cell_type": "code",
   "execution_count": null,
   "id": "e27b7f8d-a49f-4d7d-8d13-955ec7a3ceb3",
   "metadata": {},
   "outputs": [],
   "source": []
  },
  {
   "cell_type": "code",
   "execution_count": null,
   "id": "5e10b05a-2fa2-4e7a-9ae4-4989394a5377",
   "metadata": {},
   "outputs": [],
   "source": []
  },
  {
   "cell_type": "code",
   "execution_count": null,
   "id": "53af5b96-93f8-449e-a666-2c0bba614318",
   "metadata": {},
   "outputs": [],
   "source": []
  }
 ],
 "metadata": {
  "kernelspec": {
   "display_name": "Python 3 (ipykernel)",
   "language": "python",
   "name": "python3"
  },
  "language_info": {
   "codemirror_mode": {
    "name": "ipython",
    "version": 3
   },
   "file_extension": ".py",
   "mimetype": "text/x-python",
   "name": "python",
   "nbconvert_exporter": "python",
   "pygments_lexer": "ipython3",
   "version": "3.11.7"
  }
 },
 "nbformat": 4,
 "nbformat_minor": 5
}
