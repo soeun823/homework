{
 "cells": [
  {
   "cell_type": "markdown",
   "id": "ac45fe18-72fb-4ca5-86f4-6adbb5e68d47",
   "metadata": {},
   "source": [
    "## Greedy"
   ]
  },
  {
   "cell_type": "code",
   "execution_count": 4,
   "id": "168e2dc1-1caf-4b08-8cbe-8b198be5460c",
   "metadata": {},
   "outputs": [
    {
     "name": "stdin",
     "output_type": "stream",
     "text": [
      "Amount: 47\n"
     ]
    },
    {
     "name": "stdout",
     "output_type": "stream",
     "text": [
      "Minimum coins needed: 5\n"
     ]
    }
   ],
   "source": [
    "def min_coins(coins, amount):\n",
    "\n",
    "\n",
    "\n",
    "\n",
    "\n",
    "\n",
    "    \n",
    "    return count\n",
    "\n",
    "coins = [1, 5, 10, 25]\n",
    "coins = coins\n",
    "amount = int(input('Amount:'))\n",
    "print(\"Minimum coins needed:\", min_coins(coins, amount))\n"
   ]
  },
  {
   "cell_type": "markdown",
   "id": "4c748690-c899-4ffb-8685-b1fed42e03a0",
   "metadata": {},
   "source": [
    "## coins = [1,5,10,16] 이고 20원을 거슬러 준다면?"
   ]
  },
  {
   "cell_type": "markdown",
   "id": "9443ab02-6ae6-4664-a60c-ceb818046bca",
   "metadata": {},
   "source": [
    "#### Greedy로 한다면?"
   ]
  },
  {
   "cell_type": "code",
   "execution_count": 8,
   "id": "bce8a6a1-73ee-4932-8fe7-abf5da0f130d",
   "metadata": {},
   "outputs": [
    {
     "name": "stdin",
     "output_type": "stream",
     "text": [
      "Amount: 20\n"
     ]
    },
    {
     "name": "stdout",
     "output_type": "stream",
     "text": [
      "Minimum coins needed: 5\n"
     ]
    }
   ],
   "source": [
    "#위의 코드 그대로"
   ]
  },
  {
   "cell_type": "markdown",
   "id": "2627cdd0-7a40-4540-9844-c89667300726",
   "metadata": {},
   "source": [
    "#### Dynamic Programming으로 한다면?"
   ]
  },
  {
   "cell_type": "code",
   "execution_count": 38,
   "id": "823fecc9-1aed-4fb7-9706-a6a6523a9ace",
   "metadata": {},
   "outputs": [
    {
     "name": "stdin",
     "output_type": "stream",
     "text": [
      "Amount: 20\n"
     ]
    },
    {
     "name": "stdout",
     "output_type": "stream",
     "text": [
      "Minimum coins needed: 2\n"
     ]
    }
   ],
   "source": [
    "def min_coins_dp(coins, amount):\n",
    "    dt = [float('inf')] * (amount + 1)  #동적 프로그래밍과 그래프 알고리즘에서 처음에 \"무한한\" 값을 나타내는 데 자주 사용, 최솟값을 찾을때 사용 cf: float('-inf')\n",
    "    dt[0] = 0  # No coins are needed to make an amount of 0\n",
    "\n",
    "\n",
    "\n",
    "\n",
    "    \n",
    "    return dt[amount] if dt[amount] != float('inf') else -1\n",
    "\n",
    "coins = [1, 5, 10, 16]\n",
    "amount = int(input('Amount:'))\n",
    "print(\"Minimum coins needed:\", min_coins_dp(coins, amount))\n"
   ]
  },
  {
   "attachments": {
    "9b95bfe9-fb13-444a-8c81-227a5c19edc7.png": {
     "image/png": "[encoded data removed]"
    }
   },
   "cell_type": "markdown",
   "id": "626b4da1-bd86-433d-bf80-8c41ef967797",
   "metadata": {},
   "source": [
    "![image.png](attachment:9b95bfe9-fb13-444a-8c81-227a5c19edc7.png)"
   ]
  },
  {
   "cell_type": "markdown",
   "id": "fe976791-d89a-4fb3-9558-3fadf5802dbc",
   "metadata": {},
   "source": [
    "<b>동적 프로그래밍의 핵심 아이디어:</b>\n",
    "1. 문제를 작은 부분으로 나눈다 : 큰 문제를 해결하기 쉬운 작은 문제로 나누세요.\n",
    "2. 해결하고 저장 : 작은 문제를 하나하나 해결하고 답을 어딘가에 저장한다(동적테이블) : 이렇게 하면 같은 문제가 다시 나오면 다시 풀지 않고도 답을 찾을 수 있습니다.\n",
    "3. 해결책 구축 : 저장된 답변을 활용해(reuse) 점점 더 큰 문제 부분을 해결해 최종 답에 도달한다."
   ]
  },
  {
   "cell_type": "markdown",
   "id": "7fb63cd3-ea26-4cb8-a8a1-c617c8726b2a",
   "metadata": {},
   "source": [
    "### 시작과 종료 시간의 활동 목록을 주고 서로 겹치지 않는 활동의 최대 개수를 찾아보자. (Greedy)"
   ]
  },
  {
   "cell_type": "code",
   "execution_count": 25,
   "id": "21953032-a5de-421e-895a-f10d6d33287f",
   "metadata": {},
   "outputs": [
    {
     "name": "stdout",
     "output_type": "stream",
     "text": [
      "[(1, 4), (3, 5), (0, 6), (5, 7), (3, 8), (5, 9), (6, 10), (8, 11), (8, 12), (2, 13), (12, 14)]\n",
      "Maximum number of activities: 4\n"
     ]
    }
   ],
   "source": [
    "def activity_selection(activities):\n",
    "\n",
    "\n",
    "\n",
    "\n",
    "    \n",
    "    return count\n",
    "\n",
    "activities = [(1, 4), (3, 5), (0, 6), (5, 7), (3, 8), (5, 9), (6, 10), (8, 11), (8, 12), (2, 13), (12, 14)]\n",
    "print(\"Maximum number of activities:\", activity_selection(activities))\n"
   ]
  },
  {
   "cell_type": "code",
   "execution_count": null,
   "id": "c966cae2-fbea-44d9-a865-6eac523a2bb8",
   "metadata": {},
   "outputs": [],
   "source": []
  }
 ],
 "metadata": {
  "kernelspec": {
   "display_name": "Python 3 (ipykernel)",
   "language": "python",
   "name": "python3"
  },
  "language_info": {
   "codemirror_mode": {
    "name": "ipython",
    "version": 3
   },
   "file_extension": ".py",
   "mimetype": "text/x-python",
   "name": "python",
   "nbconvert_exporter": "python",
   "pygments_lexer": "ipython3",
   "version": "3.11.7"
  }
 },
 "nbformat": 4,
 "nbformat_minor": 5
}
