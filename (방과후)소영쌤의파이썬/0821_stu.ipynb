{
 "cells": [
  {
   "cell_type": "markdown",
   "metadata": {
    "id": "Wg5zcXz8jLF1"
   },
   "source": [
    "# 1. 비트 연산자"
   ]
  },
  {
   "cell_type": "markdown",
   "metadata": {
    "id": "REkmhO_nihE8"
   },
   "source": [
    "1.   & (and)\n",
    "2.   | (or)\n",
    "3.   ~ (not)\n",
    "4.   ^ (xor)\n",
    "5.   << (l-shift)\n",
    "6. \\>> (r-shift)"
   ]
  },
  {
   "cell_type": "code",
   "execution_count": 3,
   "metadata": {
    "id": "pRrG1JSajAi-"
   },
   "outputs": [],
   "source": [
    "A = 10\n",
    "B = 15"
   ]
  },
  {
   "cell_type": "code",
   "execution_count": 4,
   "metadata": {
    "id": "Yj8O9Q8hjcdd"
   },
   "outputs": [
    {
     "name": "stdout",
     "output_type": "stream",
     "text": [
      "10\n",
      "15\n",
      "5\n",
      "-11\n",
      "40\n",
      "2\n"
     ]
    }
   ],
   "source": [
    "print(A&B)\n",
    "print(A|B)\n",
    "print(A^B)\n",
    "print(~A)\n",
    "print(A<<2)\n",
    "print(A>>2)"
   ]
  },
  {
   "cell_type": "markdown",
   "metadata": {
    "id": "bg7qFlWmjt4Z"
   },
   "source": [
    "# 2. 음수의 표현"
   ]
  },
  {
   "cell_type": "code",
   "execution_count": 5,
   "metadata": {
    "id": "f5E00307jfZd"
   },
   "outputs": [
    {
     "name": "stdout",
     "output_type": "stream",
     "text": [
      "-10\n",
      "-10\n"
     ]
    }
   ],
   "source": [
    "print((~A)+1)\n",
    "print(-A)"
   ]
  },
  {
   "cell_type": "markdown",
   "metadata": {
    "id": "bOliraXnkJrC"
   },
   "source": [
    "# 3. Masking"
   ]
  },
  {
   "cell_type": "code",
   "execution_count": null,
   "metadata": {
    "id": "dyISTta46lIg"
   },
   "outputs": [],
   "source": []
  },
  {
   "cell_type": "markdown",
   "metadata": {
    "id": "b0DbFWealhOT"
   },
   "source": [
    "Q. 11 (0b1011)의 왼쪽으로 4번째 '1'삭제하기"
   ]
  },
  {
   "cell_type": "code",
   "execution_count": 6,
   "metadata": {
    "id": "6DovbWXclgcw"
   },
   "outputs": [
    {
     "name": "stdout",
     "output_type": "stream",
     "text": [
      "0b11\n",
      "3\n"
     ]
    }
   ],
   "source": [
    "num = 11\n",
    "mask = ~(1<<3) # 왼쪽으로 4번째 '1' 삭제하기\n",
    "\n",
    "num = num & mask\n",
    "print(bin(num))#binary\n",
    "print(num)"
   ]
  },
  {
   "cell_type": "markdown",
   "metadata": {
    "id": "Q26JhZ0Z87u8"
   },
   "source": [
    "Q. 11(0b1011)의 왼쪽으로 3번째 비트 추출하기"
   ]
  },
  {
   "cell_type": "code",
   "execution_count": 30,
   "metadata": {
    "id": "SBlD-Zw98DUE"
   },
   "outputs": [
    {
     "name": "stdout",
     "output_type": "stream",
     "text": [
      "0b1\n",
      "1\n"
     ]
    }
   ],
   "source": [
    "num = 11\n",
    "mask = (1<<2)\n",
    "num = (num & mask)>>2\n",
    "print(bin(num))\n",
    "print(num)"
   ]
  },
  {
   "cell_type": "markdown",
   "metadata": {
    "id": "frVjRaoOmKq9"
   },
   "source": [
    "Q. 3(0b0011)의 왼쪽으로 4번째에 1추가하여 '0b1011'만들기"
   ]
  },
  {
   "cell_type": "code",
   "execution_count": 11,
   "metadata": {
    "id": "pbLKkLI-j0u-"
   },
   "outputs": [
    {
     "name": "stdout",
     "output_type": "stream",
     "text": [
      "0b1011\n",
      "11\n"
     ]
    }
   ],
   "source": [
    "num = 3\n",
    "mask = (1<<3)\n",
    "\n",
    "num = num | mask\n",
    "print(bin(num))\n",
    "print(num)"
   ]
  },
  {
   "cell_type": "markdown",
   "metadata": {
    "id": "tQa72M629yPc"
   },
   "source": [
    "Q. 11(0b1011)의 왼쪽으로 3번째 비트 토글하기(0->1, 1->0)"
   ]
  },
  {
   "cell_type": "code",
   "execution_count": 14,
   "metadata": {
    "id": "bLtBn6Hp9-Ej"
   },
   "outputs": [
    {
     "name": "stdout",
     "output_type": "stream",
     "text": [
      "0b1111\n",
      "15\n"
     ]
    }
   ],
   "source": [
    "num = 11\n",
    "mask = 1<<2\n",
    "num = num ^ mask\n",
    "print(bin(num))\n",
    "print(num)"
   ]
  },
  {
   "cell_type": "markdown",
   "metadata": {
    "id": "D9s_c9AZ0vVU"
   },
   "source": [
    "Q. 다음의 색상표에서 16진수 색상 값을 입력 받아 R,G,B 값을 각각 출력해보세요"
   ]
  },
  {
   "cell_type": "markdown",
   "metadata": {
    "id": "VoP6PYid0-fp"
   },
   "source": [
    "# 4. 색상의 표현  \n",
    "R(Red, 8비트), G(Green, 8비트), B(Blue, 8비트)   \n",
    "[색상표](https://www.sysecol2.ethz.ch/_DevAux/Testing_and_Development/colormap.html)"
   ]
  },
  {
   "cell_type": "code",
   "execution_count": 25,
   "metadata": {
    "colab": {
     "base_uri": "https://localhost:8080/"
    },
    "executionInfo": {
     "elapsed": 267,
     "status": "ok",
     "timestamp": 1724144888566,
     "user": {
      "displayName": "SYpark Park",
      "userId": "01398054212949495215"
     },
     "user_tz": -540
    },
    "id": "ZWbqtPdCzCGy",
    "outputId": "107c1b10-61a8-41ef-a22b-dc5431960738"
   },
   "outputs": [
    {
     "name": "stdout",
     "output_type": "stream",
     "text": [
      "153 0 204\n"
     ]
    }
   ],
   "source": [
    "color = 0x009900cc\n",
    "r = (color & (0xff)<<16)>>16 #10011001\n",
    "g = (color & (0xff)<<8)>>8 #00000000\n",
    "b = (color & (0xff)) #11001100\n",
    "print(r,g,b)"
   ]
  },
  {
   "cell_type": "markdown",
   "metadata": {
    "id": "w688o3PC3hI4"
   },
   "source": [
    "Q. 수를 입력받아 '짝수, 홀수'인지 여부를 비트연산자를 활용하여 판단해보세요"
   ]
  },
  {
   "cell_type": "code",
   "execution_count": 14,
   "metadata": {
    "id": "G3gBCAyf1SWX",
    "scrolled": true
   },
   "outputs": [
    {
     "name": "stdout",
     "output_type": "stream",
     "text": [
      "Num:2\n",
      "홀수\n"
     ]
    }
   ],
   "source": [
    "num = eval(input('Num:')) # eval 파이썬이 자료형을 눈치껏 지정해줌\n",
    "if(num & 1 ):  # 비트 연산자 활용\n",
    "  print('홀수')\n",
    "else:\n",
    "  print('짝수')"
   ]
  },
  {
   "cell_type": "code",
   "execution_count": 17,
   "metadata": {
    "id": "Iq068OnsWMKv"
   },
   "outputs": [
    {
     "name": "stdout",
     "output_type": "stream",
     "text": [
      "Num:4\n",
      "짝수\n"
     ]
    }
   ],
   "source": [
    "num = eval(input('Num:')) # eval 파이썬이 자료형을 눈치껏 지정해줌\n",
    "if(num >> 1 << 1 == num):  # 비트 연산자 활용\n",
    "  print('짝수')\n",
    "else:\n",
    "  print('홀수')"
   ]
  },
  {
   "cell_type": "code",
   "execution_count": null,
   "metadata": {
    "id": "gLbdqn5x4BjV"
   },
   "outputs": [],
   "source": []
  }
 ],
 "metadata": {
  "colab": {
   "authorship_tag": "ABX9TyNfK4UvEvgoI5dvk/i+bqXv",
   "provenance": [
    {
     "file_id": "1UShDThW8jHZBu8dJjPyU9NzKkNnN3ow-",
     "timestamp": 1724132938107
    }
   ]
  },
  "kernelspec": {
   "display_name": "Python 3 (ipykernel)",
   "language": "python",
   "name": "python3"
  },
  "language_info": {
   "codemirror_mode": {
    "name": "ipython",
    "version": 3
   },
   "file_extension": ".py",
   "mimetype": "text/x-python",
   "name": "python",
   "nbconvert_exporter": "python",
   "pygments_lexer": "ipython3",
   "version": "3.11.7"
  }
 },
 "nbformat": 4,
 "nbformat_minor": 1
}
