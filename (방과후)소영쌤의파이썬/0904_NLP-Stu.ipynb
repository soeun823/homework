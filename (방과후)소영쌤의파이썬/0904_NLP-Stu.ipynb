{
 "cells": [
  {
   "cell_type": "markdown",
   "id": "1a85970f",
   "metadata": {},
   "source": [
    "# Dictionary example"
   ]
  },
  {
   "cell_type": "markdown",
   "id": "9b8610c4",
   "metadata": {},
   "source": [
    "1에서 20까지를 key, 1에서 20까지의 거듭제곱을 value로 D구성하기"
   ]
  },
  {
   "cell_type": "code",
   "execution_count": null,
   "id": "23351a7e",
   "metadata": {},
   "outputs": [],
   "source": [
    "D = {   for i in range(1,21)}\n",
    "print(D)"
   ]
  },
  {
   "cell_type": "markdown",
   "id": "b17224ab",
   "metadata": {},
   "source": [
    "단어를 입력하면 단어의 스펠을 key, 스펠의 개수를 value로 D구성하기"
   ]
  },
  {
   "cell_type": "code",
   "execution_count": null,
   "id": "4a7d97e2",
   "metadata": {},
   "outputs": [],
   "source": [
    "word = input()\n",
    "L = list(word)\n",
    "D = {            for ch in L}\n",
    "print(D)"
   ]
  },
  {
   "cell_type": "markdown",
   "id": "e33eed45",
   "metadata": {},
   "source": [
    "2024년도에 대해 날짜를 '월/일'의 형식으로 입력받아서 해당 날짜까지의 총 일수를 출력해보자"
   ]
  },
  {
   "cell_type": "code",
   "execution_count": null,
   "id": "7b6e7372",
   "metadata": {},
   "outputs": [],
   "source": [
    "\n",
    "date = input(\"(ex)4/20:\")\n"
   ]
  },
  {
   "cell_type": "code",
   "execution_count": null,
   "id": "073804b7",
   "metadata": {},
   "outputs": [],
   "source": []
  },
  {
   "cell_type": "code",
   "execution_count": null,
   "id": "41db2509",
   "metadata": {},
   "outputs": [],
   "source": []
  },
  {
   "cell_type": "markdown",
   "id": "38bd62b4",
   "metadata": {},
   "source": [
    "# NLP : 자연어 처리"
   ]
  },
  {
   "cell_type": "code",
   "execution_count": null,
   "id": "fa8bb234",
   "metadata": {},
   "outputs": [],
   "source": [
    "s = \"\"\"Nineteen Eighty-Four makes depressing but essential reading. \n",
    "Published in 1949, \n",
    "it’s the author’s vision of a dystopian future dominated by totalitarian state surveillance, mind control and perpetual war. \n",
    "At the centre of the novel is Winston, \n",
    "whose job is to rewrite old news stories so that they toe the party line, \n",
    "whom we follow in his quest for rebellion against the government he works for. \n",
    "Its memorable opening line sets the unsettling tone for the rest of this uncomfortable novel\"\"\""
   ]
  },
  {
   "cell_type": "markdown",
   "id": "60e7f420",
   "metadata": {},
   "source": [
    "특수문자 없애기"
   ]
  },
  {
   "cell_type": "code",
   "execution_count": null,
   "id": "2f2ed687",
   "metadata": {},
   "outputs": [],
   "source": [
    "s1 = \n",
    "print(s1)"
   ]
  },
  {
   "cell_type": "code",
   "execution_count": null,
   "id": "5b5ebb6d",
   "metadata": {},
   "outputs": [],
   "source": [
    "#소문자로 통일\n",
    "s2 = \n",
    "print(s2)"
   ]
  },
  {
   "cell_type": "markdown",
   "id": "05085602",
   "metadata": {},
   "source": [
    "bow(bag of words) 구성"
   ]
  },
  {
   "cell_type": "code",
   "execution_count": null,
   "id": "fa29f425",
   "metadata": {},
   "outputs": [],
   "source": [
    "L = s2.split()\n",
    "bow = {                     }\n",
    "print(bow)"
   ]
  },
  {
   "cell_type": "markdown",
   "id": "87392ffb",
   "metadata": {},
   "source": [
    "많은 데이터의 bow구성 시 속도 개선"
   ]
  },
  {
   "cell_type": "code",
   "execution_count": null,
   "id": "a3ad4a00",
   "metadata": {},
   "outputs": [],
   "source": [
    "bow = {}\n",
    "for token in L:\n",
    "    \n",
    "print(bow)"
   ]
  },
  {
   "cell_type": "markdown",
   "id": "5aff3187",
   "metadata": {},
   "source": [
    "정규식으로 특수문자 제거하기"
   ]
  },
  {
   "cell_type": "code",
   "execution_count": null,
   "id": "7f3b8a3b",
   "metadata": {},
   "outputs": [],
   "source": [
    "import re\n",
    "removechr = re.compile(\"[\\W_]\")\n",
    "s3 = removechr.sub(' ',s)\n",
    "print(s3)"
   ]
  },
  {
   "cell_type": "code",
   "execution_count": null,
   "id": "2e72d79b",
   "metadata": {},
   "outputs": [],
   "source": []
  }
 ],
 "metadata": {
  "kernelspec": {
   "display_name": "Python 3 (ipykernel)",
   "language": "python",
   "name": "python3"
  },
  "language_info": {
   "codemirror_mode": {
    "name": "ipython",
    "version": 3
   },
   "file_extension": ".py",
   "mimetype": "text/x-python",
   "name": "python",
   "nbconvert_exporter": "python",
   "pygments_lexer": "ipython3",
   "version": "3.11.5"
  }
 },
 "nbformat": 4,
 "nbformat_minor": 5
}
