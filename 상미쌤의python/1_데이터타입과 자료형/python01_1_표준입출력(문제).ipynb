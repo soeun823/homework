{
 "cells": [
  {
   "cell_type": "markdown",
   "metadata": {
    "id": "t6koqWcKtO-M"
   },
   "source": [
    "\n",
    "\n",
    "```\n",
    "# 코드로 형식 지정됨\n",
    "```\n",
    "\n",
    "# Python 표준 입출력\n"
   ]
  },
  {
   "cell_type": "markdown",
   "metadata": {
    "id": "zanC5HSys02U"
   },
   "source": [
    "## 1. 표준 출력 : print()\n",
    "### 아래와 같은 출력결과를 비교하여 코드를 작성하고 실행하여 보자.\n",
    "3. end ='' 이용\n",
    "4. ',' 이용\n",
    "5. '+' 이용\n",
    "---\n",
    "1. Hello  \n",
    "2. World!  \n",
    "3. Hello World!  \n",
    "4. Hello  World!  \n",
    "5. Hello World!  \n",
    "\n",
    "---"
   ]
  },
  {
   "cell_type": "code",
   "execution_count": 1,
   "metadata": {
    "colab": {
     "base_uri": "https://localhost:8080/"
    },
    "executionInfo": {
     "elapsed": 13,
     "status": "ok",
     "timestamp": 1723879292270,
     "user": {
      "displayName": "곽상미",
      "userId": "10268103871227333801"
     },
     "user_tz": -540
    },
    "id": "xX0K7ri3ta-W",
    "outputId": "d2755519-dade-4677-82a3-29daed187134"
   },
   "outputs": [
    {
     "name": "stdout",
     "output_type": "stream",
     "text": [
      "Hello \n",
      "World!\n",
      "Hello World!\n"
     ]
    }
   ],
   "source": [
    "# 표준 출력\n",
    "print('Hello ')\n",
    "print(\"World!\")\n",
    "\n",
    "# 한줄 연결 출력\n",
    "print('Hello '+\"World!\")"
   ]
  },
  {
   "cell_type": "markdown",
   "metadata": {
    "id": "CeTACTKQ0SEg"
   },
   "source": []
  },
  {
   "cell_type": "markdown",
   "metadata": {
    "id": "ySffQb8LzPjE"
   },
   "source": [
    "###이스케이프 시퀀스(escape sequence)\n",
    "\\와 특정 문자를 결합하여 문자를 표시해 주는 문자\n",
    "+ \\\\ : \\\\\n",
    "+ \\’ : 작은 따옴표\n",
    "+ \\” : 큰 따옴표\n",
    "+ \\n : 개행(엔터)\n",
    "+ \\t : 탭"
   ]
  },
  {
   "cell_type": "markdown",
   "metadata": {
    "id": "9lDfPj_uP4k7"
   },
   "source": [
    "##다음과 같이 출력해 보자.\n",
    "\n",
    "[입력]   \n",
    "이름을 입력하세요python  \n",
    "[출력]    \n",
    "hello, 'python'   \n",
    "hello, \"python\"  \n",
    "\"Life is short, You need 'python' \"\n"
   ]
  },
  {
   "cell_type": "code",
   "execution_count": 7,
   "metadata": {
    "colab": {
     "base_uri": "https://localhost:8080/"
    },
    "executionInfo": {
     "elapsed": 5282,
     "status": "ok",
     "timestamp": 1723796287070,
     "user": {
      "displayName": "곽상미",
      "userId": "10268103871227333801"
     },
     "user_tz": -540
    },
    "id": "oRit939rP2bq",
    "outputId": "0caf6c53-c8cf-4cef-9dd7-a5b5394ffd2f"
   },
   "outputs": [
    {
     "name": "stdout",
     "output_type": "stream",
     "text": [
      "이름을 입력하세요python\n",
      "hello, 'python'\n",
      "hello, \"python\"\n"
     ]
    }
   ],
   "source": [
    "name=input('이름을 입력하세요')\n",
    "\n",
    "\n",
    "## displaying single quotations\n",
    "print(\"hello, \\'\" + name + \"\\'\")\n",
    "## displaying double quotations\n",
    "print(\"hello, \\\"\" + name + \"\\\"\")"
   ]
  },
  {
   "cell_type": "code",
   "execution_count": null,
   "metadata": {
    "colab": {
     "base_uri": "https://localhost:8080/",
     "height": 35
    },
    "executionInfo": {
     "elapsed": 646,
     "status": "ok",
     "timestamp": 1592725078576,
     "user": {
      "displayName": "김경민",
      "photoUrl": "",
      "userId": "16754840959427160571"
     },
     "user_tz": -540
    },
    "id": "aF3ieWpIz61U",
    "outputId": "036b900c-6189-464f-87e1-942af47af8ab"
   },
   "outputs": [
    {
     "name": "stdout",
     "output_type": "stream",
     "text": [
      "Hello\tWorld!\n"
     ]
    }
   ],
   "source": [
    "print('Hello\\tWorld!')"
   ]
  },
  {
   "cell_type": "markdown",
   "metadata": {
    "id": "HIPLc6AVubls"
   },
   "source": [
    "## 2.표준 입력 :input('메시지')\n",
    "+ 문자열 입력\n",
    "+ 정수 입력 : int() 함수로 형변환\n",
    "+ 실수 입력 : float() 함수로 형변환"
   ]
  },
  {
   "cell_type": "code",
   "execution_count": 8,
   "metadata": {
    "colab": {
     "base_uri": "https://localhost:8080/",
     "height": 54
    },
    "executionInfo": {
     "elapsed": 4457,
     "status": "ok",
     "timestamp": 1723208608407,
     "user": {
      "displayName": "곽상미",
      "userId": "10268103871227333801"
     },
     "user_tz": -540
    },
    "id": "i_sh0Uuiuh6v",
    "outputId": "07d80f3f-6142-451f-c76f-3b6c26371f24",
    "scrolled": true
   },
   "outputs": [
    {
     "name": "stdout",
     "output_type": "stream",
     "text": [
      "1\n"
     ]
    },
    {
     "data": {
      "text/plain": [
       "'1'"
      ]
     },
     "execution_count": 8,
     "metadata": {},
     "output_type": "execute_result"
    }
   ],
   "source": [
    "x = input()\n",
    "x"
   ]
  },
  {
   "cell_type": "code",
   "execution_count": null,
   "metadata": {
    "colab": {
     "base_uri": "https://localhost:8080/",
     "height": 53
    },
    "executionInfo": {
     "elapsed": 4709,
     "status": "ok",
     "timestamp": 1592724003787,
     "user": {
      "displayName": "김경민",
      "photoUrl": "",
      "userId": "16754840959427160571"
     },
     "user_tz": -540
    },
    "id": "tcnwyJsyvzAd",
    "outputId": "c9a9f337-6061-42de-a135-1494338c779a"
   },
   "outputs": [
    {
     "name": "stdout",
     "output_type": "stream",
     "text": [
      "실수입력10\n"
     ]
    },
    {
     "data": {
      "text/plain": [
       "10.0"
      ]
     },
     "execution_count": 5,
     "metadata": {
      "tags": []
     },
     "output_type": "execute_result"
    }
   ],
   "source": [
    "y = float(input('실수입력'))\n",
    "y"
   ]
  },
  {
   "cell_type": "markdown",
   "metadata": {
    "id": "pr-vjQghvgW4"
   },
   "source": [
    "\n",
    "\n",
    "---\n",
    "2-1 해결문제) 두 정수를 입력 받아서 사칙연산을 수행하는 코드를 작성하시오.\n",
    "\n",
    "(입출력)  \n",
    "첫번째 정수 입력10  \n",
    "두번째 정수 입력3  \n",
    "10 + 3  =  13  \n",
    "10 - 3  =  7  \n",
    "10 x 3  =  30  \n",
    "10 / 3  =  3.3333333333333335  \n",
    "10 / 3  나눈 몫 :  3  \n",
    "10 / 3  나눈 나머지 :  1  \n",
    "\n",
    "---\n",
    "\n"
   ]
  },
  {
   "cell_type": "code",
   "execution_count": 11,
   "metadata": {
    "colab": {
     "base_uri": "https://localhost:8080/",
     "height": 162
    },
    "executionInfo": {
     "elapsed": 6561,
     "status": "ok",
     "timestamp": 1592724159240,
     "user": {
      "displayName": "김경민",
      "photoUrl": "",
      "userId": "16754840959427160571"
     },
     "user_tz": -540
    },
    "id": "1CVvRtEmvWxS",
    "outputId": "66f0d00b-65d5-4b2a-a490-e41c0a3e3f8c"
   },
   "outputs": [
    {
     "name": "stdout",
     "output_type": "stream",
     "text": [
      "첫번째 정수 입력10\n",
      "두번째 정수 입력3\n",
      "10 + 3  =  13\n",
      "10 - 3  =  7\n",
      "10 x 3  =  30\n",
      "10 / 3  =  3.3333333333333335\n",
      "10 / 3  나눈 몫 : 3\n",
      "10 / 3  나눈 나머지:  1\n"
     ]
    }
   ],
   "source": [
    "x = int(input('첫번째 정수 입력'))\n",
    "y = int(input('두번째 정수 입력'))\n",
    "\n",
    "#연산 수행\n",
    "print( x , '+' , y , ' = ', (x+y))\n",
    "print( x , '-' , y , ' = ', (x-y))\n",
    "print( x , 'x' , y , ' = ', (x*y))\n",
    "print( x , '/' , y , ' = ', (x/y))\n",
    "print( x , '/' , y , ' 나눈 몫 :', (x//y))\n",
    "print( x , '/' , y , ' 나눈 나머지: ', (x%y))\n"
   ]
  },
  {
   "cell_type": "markdown",
   "metadata": {
    "id": "u0ravbEeyxX0"
   },
   "source": [
    "### f-string 사용 : Python 신규 버전(3.6 이상) 부터 제공되는 기능  \n",
    "+ 사용법 : f'문자열{변수}문자열'  "
   ]
  },
  {
   "cell_type": "markdown",
   "metadata": {
    "id": "AHlq9cWlWxDP"
   },
   "source": [
    "2-2.  두 정수를 입력 받아서 사칙연산을 수행하는 2-1을 f-string을 사용하여 출력하시오.\n",
    "\n",
    "---  \n",
    "(입출력)  \n",
    "첫번째 정수 입력10  \n",
    "두번째 정수 입력3  \n",
    "10 + 3  =  13  \n",
    "10 - 3  =  7  \n",
    "10 x 3  =  30  \n",
    "10 / 3  =  3.3333333333333335  \n",
    "10 / 3  나눈 몫 :  3  \n",
    "10 / 3  나눈 나머지 :  1  \n",
    "\n",
    "---\n"
   ]
  },
  {
   "cell_type": "code",
   "execution_count": 12,
   "metadata": {
    "colab": {
     "base_uri": "https://localhost:8080/",
     "height": 125
    },
    "executionInfo": {
     "elapsed": 694,
     "status": "ok",
     "timestamp": 1592724299854,
     "user": {
      "displayName": "김경민",
      "photoUrl": "",
      "userId": "16754840959427160571"
     },
     "user_tz": -540
    },
    "id": "JJlbsmo9wiuo",
    "outputId": "50880ac5-0194-4e76-df8d-6628f2a7da7e"
   },
   "outputs": [
    {
     "name": "stdout",
     "output_type": "stream",
     "text": [
      "첫번째 정수 입력10\n",
      "두번째 정수 입력3\n",
      "10 + 3 = 13\n",
      "10 - 3 = 7\n",
      "10 x 3 = 30\n",
      "10 / 3 = 3.3333333333333335\n",
      "10 / 3 나눈 몫 : 3\n",
      "10 / 3 나눈 나머지 : 1\n"
     ]
    }
   ],
   "source": [
    "x = int(input('첫번째 정수 입력'))\n",
    "y = int(input('두번째 정수 입력'))\n",
    "#2-2 f-string 사용\n",
    "print(f'{x} + {y} = {x+y}')\n",
    "print(f'{x} - {y} = {x-y}')\n",
    "print(f'{x} x {y} = {x*y}')\n",
    "print(f'{x} / {y} = {x/y}')\n",
    "print(f'{x} / {y} 나눈 몫 : {x//y}')\n",
    "print(f'{x} / {y} 나눈 나머지 : {x%y}')\n"
   ]
  },
  {
   "cell_type": "markdown",
   "metadata": {
    "id": "1DPckIpgxY9H"
   },
   "source": [
    "# 변수\n",
    "+ **어떤 값을 저장하는 공간**\n",
    " - 어떤 데이터가 있을 때 그 데이터가 메모리 상에 위치하는 주소를 변수라는 곳에 저장해두고, 나중에 변수에 저장된 메모리 상의 주소에 가서 실제 값을 읽을 수 있는 것\n",
    "+ **Python은 기본적으로 인터프리터(interpreter)를 통해 실행되는 스크립트 언어**\n",
    " - 변수를 선언할 때 타입을 지정하지 않음\n",
    " - 값을 할당하면 그때 동적으로 타입이 정해짐\n",
    " - 타입이 다를 경우 형 변환을 해줘야 연산에 사용할 수 있음\n",
    "+ **변수 명 규칙**\n",
    " - 영문 문자와 숫자 사용 :  대소문자 구분\n",
    " - 문자나 _(밑줄 문자)로 시작 : 숫자부터 시작하면 안 됨\n",
    " - 특수 문자(+, -, *, /, $, @, &, % 등)는 사용할 수 없음\n",
    " - python 키워드(if, for, while, and, or 등)는 사용할 수 없음\n",
    "\n",
    "\n",
    "아래와 같이 실행하여 키워드를 출력해보자.  \n",
    "import keyword  \n",
    "print(keyword.kwlist)"
   ]
  },
  {
   "cell_type": "code",
   "execution_count": 14,
   "metadata": {
    "colab": {
     "base_uri": "https://localhost:8080/"
    },
    "executionInfo": {
     "elapsed": 454,
     "status": "ok",
     "timestamp": 1723772450942,
     "user": {
      "displayName": "곽상미",
      "userId": "10268103871227333801"
     },
     "user_tz": -540
    },
    "id": "jH2Zwjur19eV",
    "outputId": "c8017315-c2c8-4cfe-fcb7-4b228f6d01ef",
    "scrolled": true
   },
   "outputs": [
    {
     "name": "stdout",
     "output_type": "stream",
     "text": [
      "['False', 'None', 'True', 'and', 'as', 'assert', 'async', 'await', 'break', 'class', 'continue', 'def', 'del', 'elif', 'else', 'except', 'finally', 'for', 'from', 'global', 'if', 'import', 'in', 'is', 'lambda', 'nonlocal', 'not', 'or', 'pass', 'raise', 'return', 'try', 'while', 'with', 'yield']\n"
     ]
    }
   ],
   "source": [
    "#키워드 출력\n",
    "import keyword\n",
    "print(keyword.kwlist)"
   ]
  },
  {
   "cell_type": "markdown",
   "metadata": {
    "id": "AUWnvNXg_JMM"
   },
   "source": [
    "### 섭씨 온도를 입력받아서 화씨온도로 변환하는 코드를 작성하시오.   \n",
    "  °F = °C × 1.8 + 32  \n",
    "\n",
    "\n",
    "---\n",
    "\n",
    "\n",
    "[입력]   섭씨온도 :30  \n",
    "[출력]  화씨온도는 86.0입니다."
   ]
  },
  {
   "cell_type": "code",
   "execution_count": 16,
   "metadata": {
    "executionInfo": {
     "elapsed": 365,
     "status": "ok",
     "timestamp": 1723879509253,
     "user": {
      "displayName": "곽상미",
      "userId": "10268103871227333801"
     },
     "user_tz": -540
    },
    "id": "IpKvjvaIAb6t",
    "scrolled": true
   },
   "outputs": [
    {
     "name": "stdout",
     "output_type": "stream",
     "text": [
      "섭씨온도30\n",
      "화씨온도는 86.0입니다\n"
     ]
    }
   ],
   "source": [
    "c_tmp = (int(input(\"섭씨온도\")))\n",
    "c_tmp = ((9/5*c_tmp) + 32)\n",
    "print(f'화씨온도는 {c_tmp}입니다')\n"
   ]
  },
  {
   "cell_type": "markdown",
   "metadata": {
    "id": "7Njf7yA10UQM"
   },
   "source": [
    "\n",
    "\n",
    "---\n",
    "해결문제)\n",
    "\n",
    "BMI는 몸무게와 키를 이용하여 체지방율을 측정하는 지수이다. 자신의 몸무게와 키를 입력 받아 각각 변수 weight와 height에 저장하고 BMI지수를 계산해 본다. 단, 키는 cm로 입력 받아서 처리한다.(키와 몸무게는 소수점이 입력된다.)\n",
    "+ BMI = 체중(kg) / (키(m) x키(m))  \n",
    "[입력]   \n",
    "weight(kg) : 70  \n",
    "height(cm) : 170  \n",
    "[출력]   \n",
    "BMI :24.22  \n",
    "\n",
    "\n",
    "---\n",
    "\n",
    "\n"
   ]
  },
  {
   "cell_type": "code",
   "execution_count": 21,
   "metadata": {
    "colab": {
     "base_uri": "https://localhost:8080/"
    },
    "executionInfo": {
     "elapsed": 7851,
     "status": "ok",
     "timestamp": 1722953416422,
     "user": {
      "displayName": "곽상미",
      "userId": "10268103871227333801"
     },
     "user_tz": -540
    },
    "id": "Ksep6Qz49m1n",
    "outputId": "7f1e3fb6-a160-4cec-c35b-808be9b42c00"
   },
   "outputs": [
    {
     "name": "stdout",
     "output_type": "stream",
     "text": [
      "weight(kg):70\n",
      "height(cm):170\n",
      "BMI:24.22\n"
     ]
    }
   ],
   "source": [
    "#입력\n",
    "weight = (float(input(\"weight(kg):\")))\n",
    "height = (float(input(\"height(cm):\")))\n",
    "\n",
    "#처리\n",
    "height /= 100 \n",
    "BMI = round(weight / (height*height),2)\n",
    "\n",
    "#출력\n",
    "print(f'BMI:{BMI}')\n"
   ]
  },
  {
   "cell_type": "markdown",
   "metadata": {
    "id": "-LgmrU4t0yCY"
   },
   "source": [
    "\n",
    "---\n",
    "해결문제)\n",
    "\n",
    "환율 계산기를 작성하시오.\n",
    "+ 입력\n",
    " - 1달러 환율 입력\n",
    " - 원화입력\n",
    "+ 출력\n",
    " - 환전 달러  \n",
    "\n",
    "[입력]   \n",
    "1$ 환율: 0.74    \n",
    "\n",
    "원화: 100000  \n",
    "[출력]  \n",
    "USD :74.0 $    \n",
    "\n",
    "---\n"
   ]
  },
  {
   "cell_type": "code",
   "execution_count": 22,
   "metadata": {
    "colab": {
     "base_uri": "https://localhost:8080/"
    },
    "executionInfo": {
     "elapsed": 45222,
     "status": "ok",
     "timestamp": 1723799510902,
     "user": {
      "displayName": "곽상미",
      "userId": "10268103871227333801"
     },
     "user_tz": -540
    },
    "id": "X_00kkH8BP4T",
    "outputId": "71873d17-0148-455e-d610-5ed12fac9ab8"
   },
   "outputs": [
    {
     "name": "stdout",
     "output_type": "stream",
     "text": [
      "환율계산\n",
      "1$환율0.74\n",
      "원화100000\n",
      "USD :0.0\n"
     ]
    }
   ],
   "source": [
    "#입력 (1000W = 0.74$, 1$ = 1357.5W)\n",
    "print('환율계산')\n",
    "per = (float(input('1$환율')))\n",
    "won = (int(input(\"원화\")))\n",
    "# 환율 계산 : 0.74$ / 1000W\n",
    "USD =  round(per/won,1)\n",
    "\n",
    "#출력\n",
    "print(f\"USD :{USD}\")\n"
   ]
  },
  {
   "cell_type": "code",
   "execution_count": null,
   "metadata": {},
   "outputs": [],
   "source": []
  }
 ],
 "metadata": {
  "colab": {
   "provenance": [
    {
     "file_id": "1WTz5qJY6OCEN4m492paH6NR3R4NPD8gf",
     "timestamp": 1723879199086
    }
   ]
  },
  "kernelspec": {
   "display_name": "Python 3 (ipykernel)",
   "language": "python",
   "name": "python3"
  },
  "language_info": {
   "codemirror_mode": {
    "name": "ipython",
    "version": 3
   },
   "file_extension": ".py",
   "mimetype": "text/x-python",
   "name": "python",
   "nbconvert_exporter": "python",
   "pygments_lexer": "ipython3",
   "version": "3.11.7"
  }
 },
 "nbformat": 4,
 "nbformat_minor": 1
}
