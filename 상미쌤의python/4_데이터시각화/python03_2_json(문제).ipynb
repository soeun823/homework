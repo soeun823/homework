{
 "cells": [
  {
   "cell_type": "markdown",
   "metadata": {
    "id": "mPM9oXXx6gek"
   },
   "source": [
    "# **JSON(JavaScript Object Notation)**\n",
    "+ 데이타를 교환하는 포맷으로 키-값의 쌍으로 이루어진 컬렉션\n",
    "+ 데이터 포맷이 단순하고 유연함\n",
    "+ 웹 상에서 데이터를 교환하는 데 많이 사용되고 있음\n",
    "\n",
    "## **Python  JSON 표준 라이브러리**\n",
    "\n",
    "\n",
    "```\n",
    "import json\n",
    "```\n",
    "\n",
    "### **JSON 인코딩**\n",
    "\n",
    "\n",
    "```\n",
    "json.dumps()\n",
    "```\n",
    "\n",
    "+ Python 타입의 데이터를 JSON 문자열로 변경\n",
    "+ 딕션너리, 리스트, 튜플을 JSON 문자열로 변경\n",
    "+ 반환값은 JSON 표현을 갖는 문자열(str 타입)\n",
    "+ \"indent\" 옵션\n",
    " - JSON 문자열을 읽기 편하게  Identation이 적용된 문자열 반환\n",
    "\n",
    "```\n",
    "json.dumps(파이썬자료, indent=4)\n",
    "```"
   ]
  },
  {
   "cell_type": "markdown",
   "metadata": {
    "id": "TbHwMnbkSBS2"
   },
   "source": [
    "###**JSON 디코딩**\n",
    "```\n",
    "json.loads()\n",
    "```\n",
    "- JSON 문자열을 딕션너리, 리스트, 튜플과 같은 Python 타입으로 변경"
   ]
  },
  {
   "cell_type": "code",
   "execution_count": null,
   "metadata": {
    "id": "48DtXzErR_zZ"
   },
   "outputs": [],
   "source": []
  },
  {
   "cell_type": "code",
   "execution_count": null,
   "metadata": {
    "id": "CPKcRchg6Q9e"
   },
   "outputs": [],
   "source": [
    "#json모듈 임포트하기"
   ]
  },
  {
   "cell_type": "code",
   "execution_count": 3,
   "metadata": {
    "colab": {
     "base_uri": "https://localhost:8080/"
    },
    "executionInfo": {
     "elapsed": 22,
     "status": "ok",
     "timestamp": 1731893327632,
     "user": {
      "displayName": "곽상미",
      "userId": "10268103871227333801"
     },
     "user_tz": -540
    },
    "id": "CdVqFsKf8eVZ",
    "outputId": "a1767594-2c10-4967-a383-ee160a1c9b60"
   },
   "outputs": [],
   "source": [
    "jdata = {\n",
    "    \"request_id\": \"0\",\n",
    "    \"return_type\": \"omAnalysis\",\n",
    "    \"result\": 0,\n",
    "    \"reason\": \"\",\n",
    "    \"return_object\": {\n",
    "        \"query\": \"한국의 가을은 매우 아름답습니다.\",\n",
    "        \"type\": \"감성분석\",\n",
    "        \"score\": 0.9999995231628418,\n",
    "        \"label\": \"긍정\"\n",
    "    },\n",
    "    \"result_code\": \"success\"\n",
    "}\n",
    "\n"
   ]
  },
  {
   "cell_type": "code",
   "execution_count": 4,
   "metadata": {
    "id": "HScl8Ndk8iIv"
   },
   "outputs": [
    {
     "name": "stdout",
     "output_type": "stream",
     "text": [
      "{\"request_id\": \"0\", \"return_type\": \"omAnalysis\", \"result\": 0, \"reason\": \"\", \"return_object\": {\"query\": \"\\ud55c\\uad6d\\uc758 \\uac00\\uc744\\uc740 \\ub9e4\\uc6b0 \\uc544\\ub984\\ub2f5\\uc2b5\\ub2c8\\ub2e4.\", \"type\": \"\\uac10\\uc131\\ubd84\\uc11d\", \"score\": 0.9999995231628418, \"label\": \"\\uae0d\\uc815\"}, \"result_code\": \"success\"}\n",
      "<class 'str'>\n"
     ]
    }
   ],
   "source": [
    "#json문자열로 변경하기\n",
    "jsonStr = json.dumps(jdata)\n",
    "print(jsonStr)\n",
    "print(type(jsonStr))"
   ]
  },
  {
   "cell_type": "code",
   "execution_count": 5,
   "metadata": {
    "id": "Sk9vsFgD8sE7"
   },
   "outputs": [
    {
     "name": "stdout",
     "output_type": "stream",
     "text": [
      "{\n",
      "\t\"request_id\": \"0\",\n",
      "\t\"return_type\": \"omAnalysis\",\n",
      "\t\"result\": 0,\n",
      "\t\"reason\": \"\",\n",
      "\t\"return_object\": {\n",
      "\t\t\"query\": \"\\ud55c\\uad6d\\uc758 \\uac00\\uc744\\uc740 \\ub9e4\\uc6b0 \\uc544\\ub984\\ub2f5\\uc2b5\\ub2c8\\ub2e4.\",\n",
      "\t\t\"type\": \"\\uac10\\uc131\\ubd84\\uc11d\",\n",
      "\t\t\"score\": 0.9999995231628418,\n",
      "\t\t\"label\": \"\\uae0d\\uc815\"\n",
      "\t},\n",
      "\t\"result_code\": \"success\"\n",
      "}\n",
      "<class 'str'>\n"
     ]
    }
   ],
   "source": [
    " #json문자열로 변경하고 indent 등 속성추가\n",
    "jstr1 = json.dumps(jdata, indent = \"\\t\")\n",
    "print(jstr1)\n",
    "print(type(jstr1))"
   ]
  },
  {
   "cell_type": "markdown",
   "metadata": {
    "id": "dV9VNxED9pW3"
   },
   "source": [
    "### **JSON 디코딩**\n",
    "\n",
    "\n",
    "```\n",
    "json.loads()\n",
    "```\n",
    "\n",
    "+ JSON 문자열을 딕션너리, 리스트, 튜플과 같은 Python 타입으로 변경\n"
   ]
  },
  {
   "cell_type": "code",
   "execution_count": 6,
   "metadata": {
    "id": "waPRX4TS94Tl"
   },
   "outputs": [
    {
     "name": "stdout",
     "output_type": "stream",
     "text": [
      "{'request_id': '0', 'return_type': 'omAnalysis', 'result': 0, 'reason': '', 'return_object': {'query': '한국의 가을은 매우 아름답습니다.', 'type': '감성분석', 'score': 0.9999995231628418, 'label': '긍정'}, 'result_code': 'success'}\n",
      "<class 'dict'>\n",
      "request_id 0\n",
      "return_type omAnalysis\n",
      "result 0\n",
      "reason \n",
      "return_object {'query': '한국의 가을은 매우 아름답습니다.', 'type': '감성분석', 'score': 0.9999995231628418, 'label': '긍정'}\n",
      "result_code success\n",
      "request_id 0\n",
      "return_type omAnalysis\n",
      "result 0\n",
      "reason \n",
      "return_object {'query': '한국의 가을은 매우 아름답습니다.', 'type': '감성분석', 'score': 0.9999995231628418, 'label': '긍정'}\n",
      "result_code success\n",
      "request_id 0\n",
      "return_type omAnalysis\n",
      "result 0\n",
      "reason \n",
      "return_object {'query': '한국의 가을은 매우 아름답습니다.', 'type': '감성분석', 'score': 0.9999995231628418, 'label': '긍정'}\n",
      "result_code success\n"
     ]
    }
   ],
   "source": [
    " #JSON 문자열을 딕션너리, 리스트, 튜플과 같은 Python 타입으로 변경\n",
    "dt =json.loads(jstr1)\n",
    "print(dt)\n",
    "print(type(dt))\n",
    "for key, value in dt.items():\n",
    "    print(key,value)\n",
    "    \n",
    "for item in dt:\n",
    "    print(item, dt[item])#키와 값\n",
    "    \n",
    "for key in dt :\n",
    "    print(key, dt.get(key))#키와 값\n",
    "    \n",
    "    "
   ]
  },
  {
   "cell_type": "markdown",
   "metadata": {
    "id": "-kDISHDT_nHW"
   },
   "source": [
    "\n",
    "\n",
    "---\n",
    "##[실습] data.json 파일을 읽어서 감성분석 문장과 결과 출력하시오.\n",
    "\n",
    "\n",
    "---\n",
    "\n",
    "\n"
   ]
  },
  {
   "cell_type": "code",
   "execution_count": 16,
   "metadata": {
    "id": "JDnOAdmCUReO"
   },
   "outputs": [
    {
     "name": "stdout",
     "output_type": "stream",
     "text": [
      "한국의 가을은 매우 아름답습니다. 감성분석 긍정 100.00\n"
     ]
    }
   ],
   "source": [
    "import json\n",
    "dt = json.loads(jstr1)\n",
    "# dt = json.loads(jdata)\n",
    "# print(dt)\n",
    "# print(type(dt))\n",
    "rt = dt['return_object']\n",
    "# print(rt)\n",
    "x=rt['score']*100 #99.9999~\n",
    "rate = f'{x:.2f}'\n",
    "print(rt['query'],rt['type'],rt['label'],rate)"
   ]
  },
  {
   "cell_type": "markdown",
   "metadata": {
    "id": "8yXH5Rnk5rHa"
   },
   "source": [
    "[해결] json데이터를 가지고, 리스트 컴프리헨션을 사용하여 is_active가 true인 사용자만 필터링하여 출력하는 코드를 작성하시오."
   ]
  },
  {
   "cell_type": "code",
   "execution_count": 19,
   "metadata": {
    "id": "UatJVlcA55t3"
   },
   "outputs": [],
   "source": [
    "import json\n",
    "\n",
    "fdata = \"\"\"\n",
    "[\n",
    "    {\n",
    "        \"id\": 1,\n",
    "        \"name\": \"홍길동\",\n",
    "        \"email\": \"hong@example.com\",\n",
    "        \"is_active\": true\n",
    "    },\n",
    "    {\n",
    "        \"id\": 2,\n",
    "        \"name\": \"김영희\",\n",
    "        \"email\": \"kim@example.com\",\n",
    "        \"is_active\": false\n",
    "    },\n",
    "    {\n",
    "        \"id\": 3,\n",
    "        \"name\": \"이철수\",\n",
    "        \"email\": \"lee@example.com\",\n",
    "        \"is_active\": true\n",
    "    }\n",
    "]\n",
    "\"\"\"\n"
   ]
  },
  {
   "cell_type": "code",
   "execution_count": 26,
   "metadata": {
    "id": "ahKnNkbv6AuW"
   },
   "outputs": [
    {
     "name": "stdout",
     "output_type": "stream",
     "text": [
      "<class 'list'>\n",
      "{'id': 1, 'name': '홍길동', 'email': 'hong@example.com', 'is_active': True}\n",
      "{'id': 3, 'name': '이철수', 'email': 'lee@example.com', 'is_active': True}\n"
     ]
    }
   ],
   "source": [
    "#정답\n",
    "import json\n",
    "data = json.loads(fdata)\n",
    "print(type(data))\n",
    "\n",
    "a_user = [user for user in data if user[\"is_active\"]]\n",
    "for item in a_user :\n",
    "    print(item)\n",
    "    \n"
   ]
  },
  {
   "cell_type": "markdown",
   "metadata": {
    "id": "jbBLAzTqUSmf"
   },
   "source": []
  }
 ],
 "metadata": {
  "colab": {
   "provenance": []
  },
  "kernelspec": {
   "display_name": "Python 3 (ipykernel)",
   "language": "python",
   "name": "python3"
  },
  "language_info": {
   "codemirror_mode": {
    "name": "ipython",
    "version": 3
   },
   "file_extension": ".py",
   "mimetype": "text/x-python",
   "name": "python",
   "nbconvert_exporter": "python",
   "pygments_lexer": "ipython3",
   "version": "3.11.7"
  }
 },
 "nbformat": 4,
 "nbformat_minor": 1
}
