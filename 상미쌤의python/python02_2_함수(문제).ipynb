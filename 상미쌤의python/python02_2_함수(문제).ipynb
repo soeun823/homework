{
 "cells": [
  {
   "cell_type": "markdown",
   "metadata": {
    "id": "0jP9qIT_TY3s"
   },
   "source": [
    "# 함수(Function)\n",
    "+ 특정 기능을 하나로 묶어서 따로 관리하기 위해 사용\n",
    " - 반복되는 내용을 효율적으로 처리\n",
    " - 코드의 가독성을 높임\n",
    "\n",
    "+ 함수의 종류\n",
    " - 내장함수 : 파이썬에서 기본으로 제공하는 함수\n",
    " - 모듈함수 : import를 해서 가져다가 사용할 수 있는 함수\n",
    " - 사용자정의함수 : 사용자가 함수를 직접 정의하는 함수\n"
   ]
  },
  {
   "cell_type": "markdown",
   "metadata": {
    "id": "qYXu9tVQUIOz"
   },
   "source": [
    "## **내장함수**\n",
    "\n",
    "+ **abs(x)** :어떤 숫자를 입력으로 받았을 때, 그 숫자의 절대값을 돌려주는 함수: abs(-1)\n",
    "+ **divmod(a, b)** :a를 b로 나눈 몫과 나머지를 튜플형태로 리턴하는함수:divmod(10, 3)\n",
    "=> (3, 1)\n",
    "+ **float(x)** :데이터를 실수로 변환:\n",
    "+ **int(x)** :문자열 형태의 숫자나 소수점이 있는 숫자 등을 정수 형태로 변환:\n",
    "+ **len(s)** :입력값s의 길이(요소의 전체 개수)를 리턴하는함수:len(\"python\"), len([1,2,3])\n",
    "+ **max(iterable)** :인수로 반복 가능한 자료형을입력받아그 최대값을 리턴하는함수:max([1, 2, 3]) , max(\"python\")\n",
    "+ **min(iterable)** :인수로 반복 가능한 자료형을입력받아그 최소값을 리턴하는함수:min([1, 2, 3]), min(\"python\")\n",
    "+ **pow(x, y)** :x의 y 제곱한 결과값을 리턴하는함수:\n",
    "+ **round(n[,nd])** :숫자를 입력받아반올림 해 주는 함수:\n",
    "+ **sorted(iterable)**:입력값을정렬한 후 그 결과를 리스트로 리턴하는함수:\n",
    "+ **str(object)** :문자열 형태로 객체를 변환하여 리턴하는함수:\n",
    "+ **sum(iterable)** :입력으로 받은 리스트나 튜플의모든 요소의 합을 리턴하는함수:\n"
   ]
  },
  {
   "cell_type": "markdown",
   "metadata": {
    "id": "m_sJzFK6Vnq4"
   },
   "source": [
    "## **사용자 정의 함수**\n",
    "### **사용자 정의 함수 구조**\n",
    "     def 함수명(매개변수1, 매개변수 2 ...):  \n",
    "        #함수 코드  \n",
    "     return\n",
    "\n",
    "  \n",
    "### **사용자 정의 함수 호출**\n",
    "     함수명(인수1,인수2 ...)"
   ]
  },
  {
   "cell_type": "markdown",
   "metadata": {
    "id": "PNXBLeL0uDuJ"
   },
   "source": [
    "\n",
    "###[실습]1. 임의의 세 개의 숫자를 인자로 넣으면 세 숫자를 더한 값을 출력해주는 함수를 만들어보고, 호출해보자.\n",
    "\n",
    "출력 예:\n",
    "plus(1, 2, 3)  \n",
    "6\n"
   ]
  },
  {
   "cell_type": "code",
   "execution_count": 2,
   "metadata": {
    "id": "9tk1WYSTucjp"
   },
   "outputs": [
    {
     "name": "stdout",
     "output_type": "stream",
     "text": [
      "6\n"
     ]
    }
   ],
   "source": [
    "def plus(a,b,c):\n",
    "    print(a+b+c)\n",
    "\n",
    "#함수 작성\n",
    "plus(1, 2, 3)"
   ]
  },
  {
   "cell_type": "markdown",
   "metadata": {
    "id": "G3Z3WFgTBYcX"
   },
   "source": [
    "###[실습]2. 아래 함수를 실행한 결과를 예측해 보고, 리턴 자료의 타입을 알아보자."
   ]
  },
  {
   "cell_type": "code",
   "execution_count": 4,
   "metadata": {
    "id": "CVt3FYVFdh4C"
   },
   "outputs": [
    {
     "name": "stdout",
     "output_type": "stream",
     "text": [
      "7\n",
      "(7, 12) <class 'tuple'>\n"
     ]
    }
   ],
   "source": [
    "def add_and_mul1(a,b):\n",
    "  return a+b\n",
    "  return a*b\n",
    "\n",
    "result1 = add_and_mul1(3,4)\n",
    "print(result1)\n",
    "\n",
    "def add_and_mul2(a,b):\n",
    "    return a+b, a*b\n",
    "\n",
    "result2 = add_and_mul2(3,4)\n",
    "print(result2,type(result2))\n",
    "\n",
    "result3, result4 = add_and_mul2(3,4)\n",
    "print(result3,result4)"
   ]
  },
  {
   "cell_type": "markdown",
   "metadata": {
    "id": "rqfULRofN6qt"
   },
   "source": [
    "###[실습]3. 단을 입력하면 입력한 단의 구구단을 출력하는 코드를 함수를 이용하여 작성해 보자.\n",
    "```\n",
    "[입출력]\n",
    "단입력 : 7\n",
    "7 x 1 = 7\n",
    "7 x 2 = 14\n",
    "7 x 3 = 21\n",
    "7 x 4 = 28\n",
    "7 x 5 = 35\n",
    "7 x 6 = 42\n",
    "7 x 7 = 49\n",
    "7 x 8 = 56\n",
    "7 x 9 = 63\n",
    "```"
   ]
  },
  {
   "cell_type": "code",
   "execution_count": 7,
   "metadata": {
    "id": "tfOCxjTHS68m"
   },
   "outputs": [
    {
     "name": "stdout",
     "output_type": "stream",
     "text": [
      "단입력: 7\n",
      "7 x 1 = 7\n",
      "7 x 2 = 14\n",
      "7 x 3 = 21\n",
      "7 x 4 = 28\n",
      "7 x 5 = 35\n",
      "7 x 6 = 42\n",
      "7 x 7 = 49\n",
      "7 x 8 = 56\n",
      "7 x 9 = 63\n"
     ]
    }
   ],
   "source": [
    "# 코드 작성\n",
    "def gugudan(num, i=1):\n",
    "    if i > 9:\n",
    "        return\n",
    "    print(f'{num} x {i} = {num * i}')\n",
    "    gugudan(num, i + 1)\n",
    "\n",
    "num = int(input('단입력: '))\n",
    "gugudan(num)"
   ]
  },
  {
   "cell_type": "markdown",
   "metadata": {
    "id": "x0o-0WRaT2tU"
   },
   "source": [
    "##**가변 매개변수**  \n",
    "\n",
    ">**[사용법] def 함수이름(매개변수1,매개변수2,*가변매개변수):**\n",
    " * 매개변수를 원하는 만큼 전달할 수 있는 매개변수\n",
    " * 가변 매개변수 뒤에는 일반 매개변수가 올수 없음\n",
    " * 가변 매개변수는 하나만 사용 가능\n",
    " *\n",
    "```\n",
    "def 함수이름(매개변수1,매개변수2,*가변매개변수):\n",
    "  수행할_문장\n",
    "  ...\n",
    "```\n",
    "##**기본(값) 매개변수**  \n",
    ">**[사용법] def 함수이름(매개변수1,매개변수2,기본매개변수= 값):**\n",
    "```\n",
    "def 함수이름(매개변수1,매개변수2,기본매개변수= 값):\n",
    "  수행할_문장\n",
    "  ...\n",
    "```\n",
    "* 기본매개변수 뒤에는 일반 변수가 올수 없음  \n",
    "\n",
    "## **키워드 매개변수, kwargs**(keyword arguments)\n",
    ">[사용법] def 함수이름(매개변수1,**매개변수) :  \n",
    "```\n",
    "def print_kwargs(**a):\n",
    "  print(a)\n",
    "```\n",
    "* kwargs는 딕셔너리가 되고 모든 Key=Value 형태의 입력값이 그 딕셔너리에 저장\n",
    "* print(값, end = '')에서 end=''부분이 키워드 매개변수임\n"
   ]
  },
  {
   "cell_type": "markdown",
   "metadata": {
    "id": "JOhxe87jDmOc"
   },
   "source": [
    "###[실습]4. 가변 매개변수와 키워드 매개변수를 이용하여 함수를 작성하고 결과를 예측하여 보자."
   ]
  },
  {
   "cell_type": "code",
   "execution_count": 13,
   "metadata": {
    "id": "qF9J1_PzUaza"
   },
   "outputs": [
    {
     "name": "stdout",
     "output_type": "stream",
     "text": [
      "6\n",
      "15\n",
      "안녕하세요\n",
      "안녕하세요\n",
      "안녕하세요\n",
      "안녕하세요\n",
      "안녕하세요\n",
      "1\n",
      "2\n",
      "3\n",
      "1\n",
      "2\n",
      "3\n",
      "{'b': 1}\n",
      "{'name': 'foo', 'age': 3}\n"
     ]
    }
   ],
   "source": [
    "#시험 !!\n",
    "#가변 매개변수를 받는 함수 작성\n",
    "def add_many(*args):\n",
    "    result = 0\n",
    "    for i in args:\n",
    "        result = result + i\n",
    "    return result\n",
    "# *args에 입력받은 모든 값을 더하는 함수 작성\n",
    "print(add_many(1,2,3))\n",
    "print(add_many(1,2,3,4,5))\n",
    "\n",
    "\n",
    "# 기본(값) 매개변수 함수 작성\n",
    "def print_n(value,n = 2):\n",
    "    for i in range(n):\n",
    "        print(value)\n",
    "print_n(\"안녕하세요\")\n",
    "print_n(\"안녕하세요\",3)\n",
    "# 키워드 매개변수를 인수로 사용하여 함수를 작성\n",
    "def add_many(*args, n):\n",
    "    result = 0\n",
    "    for i in range(n):\n",
    "        for item in args:\n",
    "            print(item)\n",
    "add_many(1,2,3, n = 2) #n = 2가 키워드 매개변수\n",
    "\n",
    " #n = 2가 키워드 매개변수\n",
    "def print_kwearg(**a):\n",
    "    print(a)\n",
    "\n",
    "print_kwearg(b = 1)\n",
    "print_kwearg(name = 'foo', age =3)"
   ]
  },
  {
   "cell_type": "markdown",
   "metadata": {
    "id": "Rg6WDXTuDwfW"
   },
   "source": [
    "###[실습]5. 가변매개변수 앞에 기본(값) 매개변수가 오는 경우 그 결과를 예측하고, 오류가 있다면 수정하시오."
   ]
  },
  {
   "cell_type": "code",
   "execution_count": 16,
   "metadata": {
    "id": "pPzuCpvNdf6S"
   },
   "outputs": [
    {
     "name": "stdout",
     "output_type": "stream",
     "text": [
      "즐거운\n",
      "파이썬\n",
      "프로그래밍\n",
      "\n",
      "즐거운\n",
      "파이썬\n",
      "프로그래밍\n",
      "\n"
     ]
    }
   ],
   "source": [
    "#가변매개변수 앞에 기본(값) 매개변수가 오는 경우 함수를 작성\n",
    "# def print_n(n = 2, *values):# 영향력 : 가변 > 기본\n",
    "def print_n(*values,n = 2):\n",
    "    for i in range(n):\n",
    "        for value in values:\n",
    "            print(value)\n",
    "        print()\n",
    "\n",
    "print_n(\"즐거운\",\"파이썬\",\"프로그래밍\")\n"
   ]
  },
  {
   "cell_type": "markdown",
   "metadata": {
    "id": "BA-pfsiED5yQ"
   },
   "source": [
    "###[실습]6. 가변매개변수 앞에 기본(값) 매개변수가 오는 경우 그 결과를 예측하고, 오류가 있다면 수정하시오."
   ]
  },
  {
   "cell_type": "code",
   "execution_count": 18,
   "metadata": {
    "id": "izBSWbrm9S0B"
   },
   "outputs": [
    {
     "name": "stdout",
     "output_type": "stream",
     "text": [
      "즐거운\n",
      "파이썬\n",
      "프로그래밍\n",
      "3\n",
      "\n",
      "즐거운\n",
      "파이썬\n",
      "프로그래밍\n",
      "3\n",
      "\n"
     ]
    }
   ],
   "source": [
    "#가변매개변수 뒤에 기본(값) 매개변수가 오는 경우 함수 작성\n",
    "def print_n(*values,n = 2):\n",
    "    for i in range(n):\n",
    "        for value in values:\n",
    "            print(value)\n",
    "        print()\n",
    "print_n(\"즐거운\",\"파이썬\",\"프로그래밍\",3)"
   ]
  },
  {
   "cell_type": "markdown",
   "metadata": {
    "id": "qHcMt87h9SmG"
   },
   "source": [
    "###[실습]7. 범위 내부의 정수를 모두 더하는 함수를 작성해 보자."
   ]
  },
  {
   "cell_type": "code",
   "execution_count": 26,
   "metadata": {
    "id": "3EmN2H8Y8pzX"
   },
   "outputs": [
    {
     "name": "stdout",
     "output_type": "stream",
     "text": [
      "55\n",
      "1 3 5 7 9 \n",
      "25\n",
      "0 1 2 3 4 5 6 7 8 9 10 11 12 13 14 15 16 17 18 19 20 \n",
      "210\n",
      "0 2 4 6 8 10 12 14 16 18 20 22 24 26 28 30 \n",
      "240\n"
     ]
    }
   ],
   "source": [
    "# 함수 작성\n",
    "def sum_all1(a,b):\n",
    "    output = 0\n",
    "    for i in range(a,b+1):\n",
    "        output += i\n",
    "    return output\n",
    "\n",
    "print(sum_all1(0,10))\n",
    "\n",
    "# 위의 함수를 기본 매개변수와 키워드 매개변수를 활용하여 작성해 보자.\n",
    "def sum_all2(a = 0,b=10, step = 1): #기본(값)\n",
    "    output = 0\n",
    "    for i in range(a,b+1,step):\n",
    "        output += i\n",
    "        print(i, end = ' ')\n",
    "    print()\n",
    "    return output\n",
    "\n",
    "print(sum_all2(1,10,2))\n",
    "print(sum_all2(b = 20)) #키워드 매개변수\n",
    "print(sum_all2(b = 30,step =2))#키워드 매개변수\n"
   ]
  },
  {
   "cell_type": "markdown",
   "metadata": {
    "id": "lwHd2DP4ajLN"
   },
   "source": [
    "## **lambda 예약어**\n",
    "* 함수를 한 줄로 간단하게 정의할때 사용\n",
    "* def와 동일한 역할  \n",
    "*  return이 없어도 표현식의 결괏값을 리턴\n",
    "\n",
    "> 함수_이름 = lambda 매개변수1, 매개변수2, ... : 매개변수 이용 표현식\n",
    "\n",
    "예) 2개의 인수를 받아 서로 더한 값을 리턴하는 lambda 함수  \n",
    "```\n",
    "  add = lambda a, b: a+b\n",
    "  result = add(3, 4)\n",
    "  print(result)\n",
    "  \n",
    "  7이 출력\n",
    "```  \n",
    "\n",
    "\n",
    "def를 사용한 동일한 함수\n",
    "```\n",
    "  def add(a, b):\n",
    "      return a+b\n",
    "\n",
    "  result = add(3, 4)\n",
    "  print(result)\n",
    "```"
   ]
  },
  {
   "cell_type": "markdown",
   "metadata": {
    "id": "8prsdiljEG3m"
   },
   "source": [
    "###[실습]8. 2개의 인수를 받아 서로 곱한 값을 리턴하는 lambda 함수를 작성해 보자."
   ]
  },
  {
   "cell_type": "code",
   "execution_count": 31,
   "metadata": {
    "colab": {
     "base_uri": "https://localhost:8080/"
    },
    "executionInfo": {
     "elapsed": 357,
     "status": "ok",
     "timestamp": 1727662276205,
     "user": {
      "displayName": "곽상미",
      "userId": "10268103871227333801"
     },
     "user_tz": -540
    },
    "id": "hC0T4BZ-r6kb",
    "outputId": "a598cec3-b030-449b-c253-8e4507fcdfee"
   },
   "outputs": [
    {
     "name": "stdout",
     "output_type": "stream",
     "text": [
      "3 5\n",
      "15\n"
     ]
    }
   ],
   "source": [
    "# 2개의 인수를 받아 서로 곱한 값을 리턴하는 lambda 함수\n",
    "n1,n2 = map(int,input().split())\n",
    "\n",
    "total = lambda a, b: a*b\n",
    "result = total(n1, n2)\n",
    "print(result)"
   ]
  },
  {
   "cell_type": "markdown",
   "metadata": {
    "id": "vIGBhkrLfDVl"
   },
   "source": [
    "###[해결] 조건에 맞는 코드를 작성하시오.  \n",
    "####조건 1) 두 정수를 입력 받아서 사칙연산을 수행하는 lambda 함수 add, sub, multiply, div,div2, mod를 작성하시오.\n",
    "####조건 2) 작성한 lambda함수를 사용하여 아래와 같이 출력하는 코드를 작성하시오.\n",
    "---\n",
    "(입출력)  \n",
    "첫번째 정수 입력10  \n",
    "두번째 정수 입력3  \n",
    "10 + 3  =  13  \n",
    "10 - 3  =  7  \n",
    "10 x 3  =  30  \n",
    "10 / 3  =  3.3333333333333335  \n",
    "10 / 3  나눈 몫 :  3  \n",
    "10 / 3  나눈 나머지 :  1  \n",
    "\n",
    "---\n"
   ]
  },
  {
   "cell_type": "code",
   "execution_count": 1,
   "metadata": {
    "id": "d8WaPyNLCyop"
   },
   "outputs": [
    {
     "name": "stdout",
     "output_type": "stream",
     "text": [
      "1 2\n",
      "1 + 2 = 3\n",
      "1 - 2 = -1\n",
      "1 * 2 = 2\n",
      "1 / 2 = 0.5\n",
      "1 / 2 나눈 몫 : 0\n",
      "1 / 2 나눈 나머지 : 1\n"
     ]
    }
   ],
   "source": [
    "# 코드를 작성하시오.\n",
    "n1,n2 = map(int,input().split())\n",
    "\n",
    "add = lambda a, b: a+b\n",
    "sub = lambda a, b: a-b\n",
    "multiply = lambda a, b: a*b\n",
    "div = lambda a, b: a/b\n",
    "div2 = lambda a, b: a//b\n",
    "mod1 = lambda a, b: a%b\n",
    "\n",
    "print(f'{n1} + {n2} = {add(n1,n2)}')\n",
    "print(f'{n1} - {n2} = {sub(n1,n2)}')\n",
    "print(f'{n1} * {n2} = {multiply(n1,n2)}')\n",
    "print(f'{n1} / {n2} = {div(n1,n2)}')\n",
    "print(f'{n1} / {n2} 나눈 몫 : {div2(n1,n2)}')\n",
    "print(f'{n1} / {n2} 나눈 나머지 : {mod1(n1,n2)}')"
   ]
  },
  {
   "cell_type": "markdown",
   "metadata": {
    "id": "HRzLQbQwC1ip"
   },
   "source": [
    "###[해결 ]1. 3개의 인수를 받아 최대값을 리턴하는 lambda 함수를 작성하시오."
   ]
  },
  {
   "cell_type": "code",
   "execution_count": 4,
   "metadata": {
    "id": "zLBbClRqC3Be"
   },
   "outputs": [
    {
     "name": "stdout",
     "output_type": "stream",
     "text": [
      "3 4 2\n",
      "4\n"
     ]
    }
   ],
   "source": [
    "# 코드를 작성하시오.\n",
    "n1,n2,n3 = map(int, input().split())\n",
    "\n",
    "max_num = lambda a ,b, c : max(a,b,c)\n",
    "print(max_num(n1,n2,n3))"
   ]
  },
  {
   "cell_type": "markdown",
   "metadata": {
    "id": "4FKRQl-tdWT4"
   },
   "source": [
    "###[해결]2. 사칙연산을 지원하는 함수를 다음과 같이 만들고, 특정 변수에 해당 리턴값을 넣고, 호출하는 코드를 작성하시오.\n",
    "```\n",
    "[입출력]\n",
    "숫자를 입력하세요.10\n",
    "숫자를 입력하세요.20\n",
    "연산자를 입력하세요.+\n",
    "10 + 20 = 30\n",
    "```\n"
   ]
  },
  {
   "cell_type": "code",
   "execution_count": 6,
   "metadata": {},
   "outputs": [
    {
     "name": "stdout",
     "output_type": "stream",
     "text": [
      "숫자를 입력하세요: 1 \n",
      "숫자를 입력하세요: 2\n",
      "연산자를 입력하세요 : *\n",
      "1 * 2 = 2\n"
     ]
    }
   ],
   "source": [
    "operations = {\n",
    "    '+': lambda x, y: x + y,\n",
    "    '-': lambda x, y: x - y,\n",
    "    '*': lambda x, y: x * y,\n",
    "    '/': lambda x, y: x / y \n",
    "}\n",
    "\n",
    "num1 = int(input(\"숫자를 입력하세요: \"))\n",
    "num2 = int(input(\"숫자를 입력하세요: \"))\n",
    "operator = input(\"연산자를 입력하세요 : \")\n",
    "\n",
    "# 연산자에 따라 함수 선택 및 호출\n",
    "result = operations[operator](num1, num2)\n",
    "print(f\"{num1} {operator} {num2} = {result}\")"
   ]
  },
  {
   "cell_type": "markdown",
   "metadata": {
    "id": "8BRDqpwVhhSb"
   },
   "source": [
    "\n",
    "\n",
    "###[해결]3. 가로와 세로를 입력 받아서 정사각형, 직사각형인지 여부와 면적을 리턴하는 함수를 작성하고 그 값을 출력하는 코드를 작성하시오.\n",
    "```\n",
    "[입출력]\n",
    "가로 길이 입력 : 5\n",
    "세로 길이 입력 : 5\n",
    "이 도형은 정사각형이며, 면적은 25입니다.\n",
    "```\n",
    "\n",
    "\n"
   ]
  },
  {
   "cell_type": "code",
   "execution_count": 8,
   "metadata": {},
   "outputs": [
    {
     "name": "stdout",
     "output_type": "stream",
     "text": [
      "가로 길이 입력: 1 \n",
      "세로 길이 입력: 2\n",
      "이 도형은 직사각형이며, 면적은 2입니다.\n"
     ]
    }
   ],
   "source": [
    "shape_n = lambda w, h: \"정사각형\" if w == h else \"직사각형\"\n",
    "\n",
    "area_n = lambda w, h: w * h\n",
    "\n",
    "w = int(input(\"가로 길이 입력: \"))\n",
    "h = int(input(\"세로 길이 입력: \"))\n",
    "\n",
    "shape = shape_n(w, h)\n",
    "area = area_n(w, h)\n",
    "\n",
    "print(f\"이 도형은 {shape}이며, 면적은 {area}입니다.\")"
   ]
  },
  {
   "cell_type": "markdown",
   "metadata": {
    "id": "nAJi7iDPu3TP"
   },
   "source": [
    "###[해결]4. 다음과 같은 기능을 하는 함수를 작성하고, 호출해보세요.\n",
    "\n",
    "첫번째 인자: 문자열  \n",
    "두번째 인자: 숫자  \n",
    "리턴값: 문자열을 숫자만큼 추가한 리스트  \n",
    "출력 예1:  \n",
    "print_string(\"Python\", 3)\n",
    "\n",
    "[\"Python\", \"Python\", \"Python\"]"
   ]
  },
  {
   "cell_type": "code",
   "execution_count": 10,
   "metadata": {
    "id": "dPpZoxpRvITu"
   },
   "outputs": [
    {
     "name": "stdout",
     "output_type": "stream",
     "text": [
      "asdf\n",
      "12\n",
      "['asdf', 'asdf', 'asdf', 'asdf', 'asdf', 'asdf', 'asdf', 'asdf', 'asdf', 'asdf', 'asdf', 'asdf']\n"
     ]
    }
   ],
   "source": [
    "print_str = lambda text, n: [text for _ in range(n)]\n",
    "\n",
    "str = input()\n",
    "num = int(input())\n",
    "result = print_str(str, num)\n",
    "print(result)"
   ]
  },
  {
   "cell_type": "markdown",
   "metadata": {
    "id": "Kc1euy9fjHVK"
   },
   "source": [
    "\n",
    "\n",
    "---\n",
    "\n",
    "\n",
    "\n",
    "###[해결]5.표준체중과 BMI 지수를 구하고 BMI에 따른 비만 여부를 판단하는 프로그램을 작성하시오.\n",
    "\n",
    "+ 입력\n",
    " - 체중(kg), 키(cm), 남녀(남1, 여2)\n",
    "+ 판단기준\n",
    " - 18.5 미만 : 저체중(Underweight)\n",
    " - 18.5이상 25미만 : 정상(Normal range)\n",
    " - 25이상 : 비만(Overweight)\n",
    "+ 표준체중, BMI지수, 비만판단은 함수로 작성\n",
    "+ 표준체중 = 키(m) x 키(m) x BMI(여자 21, 남자 22)\n",
    "+ BMI = 체중(kg) / (키(m) x키(m))\n",
    "\n",
    "\n",
    "---\n",
    "\n",
    "\n"
   ]
  },
  {
   "cell_type": "code",
   "execution_count": 12,
   "metadata": {},
   "outputs": [
    {
     "name": "stdout",
     "output_type": "stream",
     "text": [
      "체중(kg): 12\n",
      "키(cm): 2\n",
      "남자: 1, 여자: 2 입력: 2\n",
      "표준체중: 0.01kg\n",
      "BMI 지수: 30000.00\n",
      "비만 판단: 비만(Overweight)\n"
     ]
    }
   ],
   "source": [
    "std_weight = lambda h, g: h * h * (22 if g == 1 else 21)\n",
    "bmi = lambda w, h: w / (h * h)\n",
    "bmi_status = lambda b: \"저체중(Underweight)\" if b < 18.5 else \"정상(Normal range)\" if 18.5 <= b < 25 else \"비만(Overweight)\"\n",
    "\n",
    "w = float(input(\"체중(kg): \"))\n",
    "h_cm = float(input(\"키(cm): \"))\n",
    "g = int(input(\"남자: 1, 여자: 2 입력: \"))\n",
    "\n",
    "h_m = h_cm / 100\n",
    "\n",
    "sw = std_weight(h_m, g)\n",
    "b = bmi(w, h_m)\n",
    "status = bmi_status(b)\n",
    "\n",
    "print(f\"표준체중: {sw:.2f}kg\")\n",
    "print(f\"BMI 지수: {b:.2f}\")\n",
    "print(f\"비만 판단: {status}\")"
   ]
  },
  {
   "cell_type": "markdown",
   "metadata": {},
   "source": [
    "###[해결]6. 시도별 대기정보는 미세먼지(PM10)의 정보가 주어진다.\n",
    "\n",
    "+ https://www.airkorea.or.kr/web/sidoQualityCompare?itemCode=10008&pMENU_NO=102\n",
    "\n",
    "+ 시도별 각 대기정보의 등급을 산정하여 출력하시오.\n",
    "```\n",
    "단 , 좋음 : **** , 보통 : ***, 나쁨 : **, 매우나쁨  :*로 표시\n",
    "```\n",
    "\n",
    "평가 :'좋음'은 '0∼15㎍/㎥', '보통'은 '16∼35㎍/㎥', '나쁨'은 '36∼75㎍/㎥', '매우 나쁨'은 '76㎍/㎥ 이상  \n",
    "\n",
    "```"
   ]
  },
  {
   "cell_type": "code",
   "execution_count": null,
   "metadata": {
    "id": "bOjIcIXOmQqy"
   },
   "outputs": [],
   "source": [
    "#미세먼지(PM10) 등급 판단\n",
    "def PM10(num) :\n",
    "    return\n",
    "\n",
    "#오존(O3) 등급 판단\n",
    "def O3(num) :\n",
    "    return\n",
    "\n",
    "#일산화탄소(CO) 등급 판단\n",
    "def CO(num) :\n",
    "    return\n",
    "\n",
    "#등급 별 표시\n",
    "def star(grade) :\n",
    "    return\n",
    "\n",
    "\n",
    "\n",
    "\n",
    "\n",
    "\n",
    "\n",
    "\n",
    "\n",
    "\n",
    "\n",
    "\n",
    "\n",
    "\n",
    "\n",
    "\n",
    "\n",
    "\n",
    "\n",
    "\n",
    "\n",
    "\n",
    "\n",
    "\n",
    "\n",
    "\n",
    "\n",
    "\n",
    "\n",
    "\n",
    "\n",
    "\n",
    "\n",
    "\n",
    "\n",
    "\n",
    "\n",
    "\n",
    "\n",
    "\n",
    "\n",
    "\n",
    "\n",
    "#지역별 데이터\n",
    "data = {'서울':[81,0.052,0.4] ,\n",
    "        '부산':[54,0.072,0.4],\n",
    "        '대구':[55,0.06,0.4],\n",
    "        '인천':[52,0.06,0.5],\n",
    "        '광주':[61,0.064,0.5],\n",
    "        '대전':[71,0.064,0.4],\n",
    "        '울산':[60,0.068,0.4],\n",
    "        '경기':[64,0.06,0.4],\n",
    "        '강원':[62,0.062,0.4],\n",
    "        '충북':[59,0.067,0.4],\n",
    "        '충남':[65,0.063,0.4],\n",
    "        '전북':[65,0.068,0.4],\n",
    "        '전남':[51,0.062,0.4],\n",
    "        '세종':[69,0.06,0.5],\n",
    "        '경북':[57,0.066,0.4],\n",
    "        '경남':[49,0.074,0.4],\n",
    "        '제주':[66,0.076,0.3]}\n"
   ]
  }
 ],
 "metadata": {
  "colab": {
   "provenance": []
  },
  "kernelspec": {
   "display_name": "Python 3 (ipykernel)",
   "language": "python",
   "name": "python3"
  },
  "language_info": {
   "codemirror_mode": {
    "name": "ipython",
    "version": 3
   },
   "file_extension": ".py",
   "mimetype": "text/x-python",
   "name": "python",
   "nbconvert_exporter": "python",
   "pygments_lexer": "ipython3",
   "version": "3.11.7"
  }
 },
 "nbformat": 4,
 "nbformat_minor": 1
}
