{
 "cells": [
  {
   "cell_type": "markdown",
   "metadata": {
    "id": "pDjSD2dJezEq"
   },
   "source": [
    "## 1. 문제를 풀며 빠르게 익숙해지는 파이썬 기본 프로그래밍1"
   ]
  },
  {
   "cell_type": "markdown",
   "metadata": {
    "id": "ax3apAP1ezEr"
   },
   "source": [
    "### 1. 출력\n",
    "* 화면에 \"Hello World!\"를 출력하세요."
   ]
  },
  {
   "cell_type": "code",
   "execution_count": 1,
   "metadata": {
    "id": "AIdsUccNezEt",
    "outputId": "5ae3f047-8ea4-4b86-8483-eaf06460c2a3",
    "scrolled": true
   },
   "outputs": [
    {
     "name": "stdout",
     "output_type": "stream",
     "text": [
      "Hello World!\n"
     ]
    }
   ],
   "source": [
    "print (\"Hello World!\")"
   ]
  },
  {
   "cell_type": "markdown",
   "metadata": {
    "id": "cb7qYwjwezEv"
   },
   "source": [
    "###  2. 출력\n",
    "* 화면에 \"I don't like C language\"를 출력하세요."
   ]
  },
  {
   "cell_type": "code",
   "execution_count": 2,
   "metadata": {
    "id": "R3blI8WbezEv",
    "outputId": "67d6742f-6e17-42bb-fe78-2082b81fafa9"
   },
   "outputs": [
    {
     "name": "stdout",
     "output_type": "stream",
     "text": [
      "I don't like C language\n"
     ]
    }
   ],
   "source": [
    "print (\"I don't like C language\")"
   ]
  },
  {
   "cell_type": "markdown",
   "metadata": {
    "id": "zLMTkE8vezEw"
   },
   "source": [
    "###  3. 출력\n",
    "* print 함수를 사용하여 3.1415의 값을 출력하세요.\n",
    "  - 단, 소수점 아래는 첫 번째 자리까지만 표시되도록 하세요.\n",
    "\n",
    "Example <br>\n",
    "3.1"
   ]
  },
  {
   "cell_type": "code",
   "execution_count": 1,
   "metadata": {},
   "outputs": [
    {
     "name": "stdout",
     "output_type": "stream",
     "text": [
      "3.1\n"
     ]
    }
   ],
   "source": [
    "f = float(3.1415)\n",
    "print(round(f,1))"
   ]
  },
  {
   "cell_type": "markdown",
   "metadata": {
    "id": "avPqgG0NezEx"
   },
   "source": [
    "### 4. 형 변환\n",
    "* 문자열 '720'를 정수형으로 변환하라. 정수 100을 문자열 '100'으로 변환하라."
   ]
  },
  {
   "cell_type": "code",
   "execution_count": 2,
   "metadata": {},
   "outputs": [
    {
     "name": "stdout",
     "output_type": "stream",
     "text": [
      "720\n",
      "100\n"
     ]
    }
   ],
   "source": [
    "s = 720\n",
    "print(int(s))\n",
    "i = int(100)\n",
    "print(str(i))"
   ]
  },
  {
   "cell_type": "markdown",
   "metadata": {
    "id": "PmhpZJZHezEx"
   },
   "source": [
    "###  5. 연산\n",
    "* 2와 4 숫자를 변수에 넣고, 두 변수를 더한 값, 곱한 값, 나눈 값을 출력하세요.\n",
    "\n",
    "Example <br>\n",
    "6 <br>\n",
    "8 <br>\n",
    "0.5"
   ]
  },
  {
   "cell_type": "code",
   "execution_count": null,
   "metadata": {
    "id": "VnhDFhdIezEy",
    "outputId": "dfdda742-7e31-498e-d47b-0904010915a0"
   },
   "outputs": [
    {
     "name": "stdout",
     "output_type": "stream",
     "text": [
      "6\n",
      "8\n",
      "0.5\n"
     ]
    }
   ],
   "source": [
    "num1 = 2\n",
    "num2 = 4\n",
    "\n",
    "print (num1 + num2)\n",
    "print (num1 * num2)\n",
    "print (num1 / num2)\n"
   ]
  },
  {
   "cell_type": "markdown",
   "metadata": {
    "id": "fQwR1qmwezEy"
   },
   "source": [
    "###  6. 연산\n",
    "* 밑이 6 이고, 지수가 2 일 때 거듭제곱 값을 출력하라.\n",
    "  - 6의 2승\n",
    "\n",
    "Example <br>\n",
    "36"
   ]
  },
  {
   "cell_type": "code",
   "execution_count": 4,
   "metadata": {},
   "outputs": [
    {
     "name": "stdout",
     "output_type": "stream",
     "text": [
      "36\n"
     ]
    }
   ],
   "source": [
    "floar = int(6)\n",
    "over = int(2)\n",
    "print(floar ** over)"
   ]
  },
  {
   "cell_type": "markdown",
   "metadata": {
    "id": "fBJc95KnezEz"
   },
   "source": [
    "###  7.  입력과 출력\n",
    "* 사용자로부터 두 개의 숫자를 입력받은 후 두 개의 숫자를 더한 값을 각각 출력하는 프로그램을 작성하세요.\n",
    "\n",
    "Example<br>\n",
    "INPUT: 2 and 4 <br>\n",
    "OUTPUT: <br>\n",
    "\n",
    "6"
   ]
  },
  {
   "cell_type": "code",
   "execution_count": 5,
   "metadata": {},
   "outputs": [
    {
     "name": "stdout",
     "output_type": "stream",
     "text": [
      "2 4\n",
      "6\n"
     ]
    }
   ],
   "source": [
    "a,b = map(int, input().split())\n",
    "print(a+b)"
   ]
  },
  {
   "cell_type": "markdown",
   "metadata": {
    "id": "O3eHZsQcezEz"
   },
   "source": [
    "###  8. 입력과 출력\n",
    "* 사용자로부터 두 개의 숫자를 입력받은 후 두 개의 숫자를 더한 값, 곱한 값, 나눈 값을 각각 출력하는 프로그램을 작성하세요.\n",
    "\n",
    "Example<br>\n",
    "INPUT: 2 and 4 <br>\n",
    "OUTPUT: <br>\n",
    "\n",
    "6 <br>\n",
    "8 <br>\n",
    "0.5"
   ]
  },
  {
   "cell_type": "code",
   "execution_count": 7,
   "metadata": {},
   "outputs": [
    {
     "name": "stdout",
     "output_type": "stream",
     "text": [
      "2 4\n",
      "6\n",
      "8\n",
      "0.5\n"
     ]
    }
   ],
   "source": [
    "a,b = map(int, input().split())\n",
    "print(a+b)\n",
    "print(a*b)\n",
    "print(a/b)"
   ]
  },
  {
   "cell_type": "markdown",
   "metadata": {
    "id": "awvnrZw5ezEz"
   },
   "source": [
    "###  9.  입력과 출력\n",
    "* 사용자로부터 두 개의 숫자를 입력받은 후 두 개의 숫자를 더한 값, 곱한 값, 나눈 값, 나눈 몫, 나머지 값을 각각 출력하는 프로그램을 작성하세요.\n",
    "\n",
    "Example<br>\n",
    "INPUT: 4 and 4 <br>\n",
    "OUTPUT: <br>\n",
    "\n",
    "8 <br>\n",
    "16 <br>\n",
    "1.0 <br>\n",
    "1 <br>\n",
    "0"
   ]
  },
  {
   "cell_type": "code",
   "execution_count": 8,
   "metadata": {},
   "outputs": [
    {
     "name": "stdout",
     "output_type": "stream",
     "text": [
      "4 4\n",
      "8\n",
      "16\n",
      "1.0\n",
      "1\n",
      "0\n"
     ]
    }
   ],
   "source": [
    "a,b = map(int, input().split())\n",
    "print(a+b)\n",
    "print(a*b)\n",
    "print(a/b)\n",
    "print(a//b)\n",
    "print(a%b)"
   ]
  },
  {
   "cell_type": "markdown",
   "metadata": {
    "id": "0DLPCIxHezEz"
   },
   "source": [
    "### 10.  입력과 출력\n",
    "* 사용자로부터 두 개의 숫자를 입력받은 후 두 개의 숫자를 더한 값, 곱한 값, 나눈 값, 나눈 몫, 나머지 값을 각각 다음과 같이 출력하는 프로그램을 작성하세요.\n",
    "\n",
    "Example<br>\n",
    "INPUT: 4 and 4 <br>\n",
    "OUTPUT: <br>\n",
    "\n",
    "4 + 4 = 8 <br>\n",
    "4 * 4 = 16 <br>\n",
    "4 / 4 = 1 <br>\n",
    "4 // 4 = 1 <br>\n",
    "4 % 4 = 0 <br>"
   ]
  },
  {
   "cell_type": "code",
   "execution_count": 1,
   "metadata": {},
   "outputs": [
    {
     "name": "stdout",
     "output_type": "stream",
     "text": [
      "4 4\n",
      "4 + 4 = 8\n",
      "4 * 4 = 16\n",
      "4 / 4 = 1.0\n",
      "4 // 4 = 1\n",
      "4 % 4 = 0\n"
     ]
    }
   ],
   "source": [
    "a,b = map(int, input().split())\n",
    "print(f'{a} + {b} = {a+b}')\n",
    "print(f'{a} * {b} = {a*b}')\n",
    "print(f'{a} / {b} = {a/b}')\n",
    "print(f'{a} // {b} = {a//b}')\n",
    "print(f'{a} % {b} = {a%b}')"
   ]
  },
  {
   "cell_type": "markdown",
   "metadata": {
    "id": "l53e7Le2ezE0"
   },
   "source": [
    "### 11.  입력과 출력\n",
    "* 사용자로부터 두 개의 숫자를 입력받은 후 두 개의 숫자를 더한 값, 곱한 값, 나눈 값, 나눈 몫, 나머지 값을 각각 다음과 같이 출력하는 프로그램을 작성하세요.\n",
    "  - 단, 나눈 값은 소숫점 첫번째 자리까지만 출력하세요.\n",
    "\n",
    "Example<br>\n",
    "INPUT: 5 and 4 <br>\n",
    "OUTPUT: <br>\n",
    "\n",
    "5 + 4 = 9 <br>\n",
    "5 + 4 = 20 <br>\n",
    "5 / 4 = 1.2 <br>\n",
    "5 // 4 = 1 <br>\n",
    "5 % 4 = 1 <br>"
   ]
  },
  {
   "cell_type": "code",
   "execution_count": 2,
   "metadata": {},
   "outputs": [
    {
     "name": "stdout",
     "output_type": "stream",
     "text": [
      "5 4\n",
      "5 + 4 = 9\n",
      "5 * 4 = 20\n",
      "5 / 4 = 1.25\n",
      "5 // 4 = 1\n",
      "5 % 4 = 1\n"
     ]
    }
   ],
   "source": [
    "a,b = map(int, input().split())\n",
    "print(f'{a} + {b} = {a+b}')\n",
    "print(f'{a} * {b} = {a*b}')\n",
    "print(f'{a} / {b} = {a/b}')\n",
    "print(f'{a} // {b} = {a//b}')\n",
    "print(f'{a} % {b} = {a%b}')"
   ]
  }
 ],
 "metadata": {
  "colab": {
   "provenance": []
  },
  "kernelspec": {
   "display_name": "Python 3 (ipykernel)",
   "language": "python",
   "name": "python3"
  },
  "language_info": {
   "codemirror_mode": {
    "name": "ipython",
    "version": 3
   },
   "file_extension": ".py",
   "mimetype": "text/x-python",
   "name": "python",
   "nbconvert_exporter": "python",
   "pygments_lexer": "ipython3",
   "version": "3.11.7"
  },
  "nbTranslate": {
   "displayLangs": [
    "*"
   ],
   "hotkey": "alt-t",
   "langInMainMenu": true,
   "sourceLang": "en",
   "targetLang": "fr",
   "useGoogleTranslate": true
  }
 },
 "nbformat": 4,
 "nbformat_minor": 1
}
